{
  "nbformat": 4,
  "nbformat_minor": 5,
  "metadata": {
    "kernelspec": {
      "display_name": "Python 3",
      "language": "python",
      "name": "python3"
    },
    "language_info": {
      "codemirror_mode": {
        "name": "ipython",
        "version": 3
      },
      "file_extension": ".py",
      "mimetype": "text/x-python",
      "name": "python",
      "nbconvert_exporter": "python",
      "pygments_lexer": "ipython3",
      "version": "3.7.9"
    },
    "papermill": {
      "default_parameters": {},
      "duration": 237.836216,
      "end_time": "2021-05-16T03:16:38.497022",
      "environment_variables": {},
      "exception": null,
      "input_path": "__notebook__.ipynb",
      "output_path": "__notebook__.ipynb",
      "parameters": {},
      "start_time": "2021-05-16T03:12:40.660806",
      "version": "2.3.2"
    },
    "colab": {
      "name": "resnest50-efficientnet.ipynb",
      "provenance": [],
      "collapsed_sections": [],
      "toc_visible": true,
      "include_colab_link": true
    },
    "accelerator": "GPU",
    "widgets": {
      "application/vnd.jupyter.widget-state+json": {
        "8ef55f58121c4b2e9e602178197c415a": {
          "model_module": "@jupyter-widgets/controls",
          "model_name": "HBoxModel",
          "state": {
            "_view_name": "HBoxView",
            "_dom_classes": [],
            "_model_name": "HBoxModel",
            "_view_module": "@jupyter-widgets/controls",
            "_model_module_version": "1.5.0",
            "_view_count": null,
            "_view_module_version": "1.5.0",
            "box_style": "",
            "layout": "IPY_MODEL_50d7dd0c02f247f097853cd0220a555c",
            "_model_module": "@jupyter-widgets/controls",
            "children": [
              "IPY_MODEL_3e54996d4ed64444b8a02592be8af8c2",
              "IPY_MODEL_748bae8e8778449bb3f3ae6209bca505"
            ]
          }
        },
        "50d7dd0c02f247f097853cd0220a555c": {
          "model_module": "@jupyter-widgets/base",
          "model_name": "LayoutModel",
          "state": {
            "_view_name": "LayoutView",
            "grid_template_rows": null,
            "right": null,
            "justify_content": null,
            "_view_module": "@jupyter-widgets/base",
            "overflow": null,
            "_model_module_version": "1.2.0",
            "_view_count": null,
            "flex_flow": null,
            "width": null,
            "min_width": null,
            "border": null,
            "align_items": null,
            "bottom": null,
            "_model_module": "@jupyter-widgets/base",
            "top": null,
            "grid_column": null,
            "overflow_y": null,
            "overflow_x": null,
            "grid_auto_flow": null,
            "grid_area": null,
            "grid_template_columns": null,
            "flex": null,
            "_model_name": "LayoutModel",
            "justify_items": null,
            "grid_row": null,
            "max_height": null,
            "align_content": null,
            "visibility": null,
            "align_self": null,
            "height": null,
            "min_height": null,
            "padding": null,
            "grid_auto_rows": null,
            "grid_gap": null,
            "max_width": null,
            "order": null,
            "_view_module_version": "1.2.0",
            "grid_template_areas": null,
            "object_position": null,
            "object_fit": null,
            "grid_auto_columns": null,
            "margin": null,
            "display": null,
            "left": null
          }
        },
        "3e54996d4ed64444b8a02592be8af8c2": {
          "model_module": "@jupyter-widgets/controls",
          "model_name": "FloatProgressModel",
          "state": {
            "_view_name": "ProgressView",
            "style": "IPY_MODEL_4386faa2f27e4284b823b543ac1b12ab",
            "_dom_classes": [],
            "description": " 30%",
            "_model_name": "FloatProgressModel",
            "bar_style": "",
            "max": 20,
            "_view_module": "@jupyter-widgets/controls",
            "_model_module_version": "1.5.0",
            "value": 6,
            "_view_count": null,
            "_view_module_version": "1.5.0",
            "orientation": "horizontal",
            "min": 0,
            "description_tooltip": null,
            "_model_module": "@jupyter-widgets/controls",
            "layout": "IPY_MODEL_d5960ef2485545a1bd9e82e9bd3a37a8"
          }
        },
        "748bae8e8778449bb3f3ae6209bca505": {
          "model_module": "@jupyter-widgets/controls",
          "model_name": "HTMLModel",
          "state": {
            "_view_name": "HTMLView",
            "style": "IPY_MODEL_271443306bfb4c17a1a4d3e593649b0a",
            "_dom_classes": [],
            "description": "",
            "_model_name": "HTMLModel",
            "placeholder": "​",
            "_view_module": "@jupyter-widgets/controls",
            "_model_module_version": "1.5.0",
            "value": " 6/20 [00:20&lt;00:47,  3.39s/it]",
            "_view_count": null,
            "_view_module_version": "1.5.0",
            "description_tooltip": null,
            "_model_module": "@jupyter-widgets/controls",
            "layout": "IPY_MODEL_e6db65e7f3ed4ed29b91db8f7c7b2992"
          }
        },
        "4386faa2f27e4284b823b543ac1b12ab": {
          "model_module": "@jupyter-widgets/controls",
          "model_name": "ProgressStyleModel",
          "state": {
            "_view_name": "StyleView",
            "_model_name": "ProgressStyleModel",
            "description_width": "initial",
            "_view_module": "@jupyter-widgets/base",
            "_model_module_version": "1.5.0",
            "_view_count": null,
            "_view_module_version": "1.2.0",
            "bar_color": null,
            "_model_module": "@jupyter-widgets/controls"
          }
        },
        "d5960ef2485545a1bd9e82e9bd3a37a8": {
          "model_module": "@jupyter-widgets/base",
          "model_name": "LayoutModel",
          "state": {
            "_view_name": "LayoutView",
            "grid_template_rows": null,
            "right": null,
            "justify_content": null,
            "_view_module": "@jupyter-widgets/base",
            "overflow": null,
            "_model_module_version": "1.2.0",
            "_view_count": null,
            "flex_flow": null,
            "width": null,
            "min_width": null,
            "border": null,
            "align_items": null,
            "bottom": null,
            "_model_module": "@jupyter-widgets/base",
            "top": null,
            "grid_column": null,
            "overflow_y": null,
            "overflow_x": null,
            "grid_auto_flow": null,
            "grid_area": null,
            "grid_template_columns": null,
            "flex": null,
            "_model_name": "LayoutModel",
            "justify_items": null,
            "grid_row": null,
            "max_height": null,
            "align_content": null,
            "visibility": null,
            "align_self": null,
            "height": null,
            "min_height": null,
            "padding": null,
            "grid_auto_rows": null,
            "grid_gap": null,
            "max_width": null,
            "order": null,
            "_view_module_version": "1.2.0",
            "grid_template_areas": null,
            "object_position": null,
            "object_fit": null,
            "grid_auto_columns": null,
            "margin": null,
            "display": null,
            "left": null
          }
        },
        "271443306bfb4c17a1a4d3e593649b0a": {
          "model_module": "@jupyter-widgets/controls",
          "model_name": "DescriptionStyleModel",
          "state": {
            "_view_name": "StyleView",
            "_model_name": "DescriptionStyleModel",
            "description_width": "",
            "_view_module": "@jupyter-widgets/base",
            "_model_module_version": "1.5.0",
            "_view_count": null,
            "_view_module_version": "1.2.0",
            "_model_module": "@jupyter-widgets/controls"
          }
        },
        "e6db65e7f3ed4ed29b91db8f7c7b2992": {
          "model_module": "@jupyter-widgets/base",
          "model_name": "LayoutModel",
          "state": {
            "_view_name": "LayoutView",
            "grid_template_rows": null,
            "right": null,
            "justify_content": null,
            "_view_module": "@jupyter-widgets/base",
            "overflow": null,
            "_model_module_version": "1.2.0",
            "_view_count": null,
            "flex_flow": null,
            "width": null,
            "min_width": null,
            "border": null,
            "align_items": null,
            "bottom": null,
            "_model_module": "@jupyter-widgets/base",
            "top": null,
            "grid_column": null,
            "overflow_y": null,
            "overflow_x": null,
            "grid_auto_flow": null,
            "grid_area": null,
            "grid_template_columns": null,
            "flex": null,
            "_model_name": "LayoutModel",
            "justify_items": null,
            "grid_row": null,
            "max_height": null,
            "align_content": null,
            "visibility": null,
            "align_self": null,
            "height": null,
            "min_height": null,
            "padding": null,
            "grid_auto_rows": null,
            "grid_gap": null,
            "max_width": null,
            "order": null,
            "_view_module_version": "1.2.0",
            "grid_template_areas": null,
            "object_position": null,
            "object_fit": null,
            "grid_auto_columns": null,
            "margin": null,
            "display": null,
            "left": null
          }
        }
      }
    }
  },
  "cells": [
    {
      "cell_type": "markdown",
      "metadata": {
        "id": "view-in-github",
        "colab_type": "text"
      },
      "source": [
        "<a href=\"https://colab.research.google.com/github/aruaru0/ac-library-go/blob/master/resnest50_efficientnet.ipynb\" target=\"_parent\"><img src=\"https://colab.research.google.com/assets/colab-badge.svg\" alt=\"Open In Colab\"/></a>"
      ]
    },
    {
      "cell_type": "markdown",
      "metadata": {
        "id": "QYTQh1gud01j"
      },
      "source": [
        "# for google colab"
      ],
      "id": "QYTQh1gud01j"
    },
    {
      "cell_type": "code",
      "metadata": {
        "colab": {
          "base_uri": "https://localhost:8080/"
        },
        "id": "pldbMdIMd0gY",
        "outputId": "11abb3a8-b03b-4a81-a246-cb969a735644"
      },
      "source": [
        "!nvidia-smi"
      ],
      "id": "pldbMdIMd0gY",
      "execution_count": 1,
      "outputs": [
        {
          "output_type": "stream",
          "text": [
            "Sat May 22 07:21:36 2021       \n",
            "+-----------------------------------------------------------------------------+\n",
            "| NVIDIA-SMI 465.19.01    Driver Version: 460.32.03    CUDA Version: 11.2     |\n",
            "|-------------------------------+----------------------+----------------------+\n",
            "| GPU  Name        Persistence-M| Bus-Id        Disp.A | Volatile Uncorr. ECC |\n",
            "| Fan  Temp  Perf  Pwr:Usage/Cap|         Memory-Usage | GPU-Util  Compute M. |\n",
            "|                               |                      |               MIG M. |\n",
            "|===============================+======================+======================|\n",
            "|   0  Tesla P100-PCIE...  Off  | 00000000:00:04.0 Off |                    0 |\n",
            "| N/A   36C    P0    26W / 250W |      0MiB / 16280MiB |      0%      Default |\n",
            "|                               |                      |                  N/A |\n",
            "+-------------------------------+----------------------+----------------------+\n",
            "                                                                               \n",
            "+-----------------------------------------------------------------------------+\n",
            "| Processes:                                                                  |\n",
            "|  GPU   GI   CI        PID   Type   Process name                  GPU Memory |\n",
            "|        ID   ID                                                   Usage      |\n",
            "|=============================================================================|\n",
            "|  No running processes found                                                 |\n",
            "+-----------------------------------------------------------------------------+\n"
          ],
          "name": "stdout"
        }
      ]
    },
    {
      "cell_type": "code",
      "metadata": {
        "colab": {
          "base_uri": "https://localhost:8080/"
        },
        "id": "u5ioQSynd0dT",
        "outputId": "5054eae6-0bd7-428e-a060-ef8eacc5177d"
      },
      "source": [
        "from google.colab import drive\n",
        "drive.mount('/content/drive')"
      ],
      "id": "u5ioQSynd0dT",
      "execution_count": 2,
      "outputs": [
        {
          "output_type": "stream",
          "text": [
            "Mounted at /content/drive\n"
          ],
          "name": "stdout"
        }
      ]
    },
    {
      "cell_type": "code",
      "metadata": {
        "id": "CBMcL4w9d0ZT"
      },
      "source": [
        "!mkdir input output"
      ],
      "id": "CBMcL4w9d0ZT",
      "execution_count": 3,
      "outputs": []
    },
    {
      "cell_type": "code",
      "metadata": {
        "id": "ZMhwoZatd0SV"
      },
      "source": [
        "!cp -r /content/drive/MyDrive/datas/birdclef-2021 input"
      ],
      "id": "ZMhwoZatd0SV",
      "execution_count": 95,
      "outputs": []
    },
    {
      "cell_type": "code",
      "metadata": {
        "id": "d2zo9Yzmd0Cn"
      },
      "source": [
        "!cp -r /content/drive/MyDrive/datas/birdcief_datas input"
      ],
      "id": "d2zo9Yzmd0Cn",
      "execution_count": 5,
      "outputs": []
    },
    {
      "cell_type": "code",
      "metadata": {
        "id": "EE5D-7bQgGYT"
      },
      "source": [
        "! pip install --upgrade --force-reinstall --no-deps  kaggle > /dev/null\n",
        "! mkdir /root/.kaggle\n",
        "! cp \"/content/drive/My Drive/Kaggle/kaggle.json\" /root/.kaggle/\n",
        "! chmod 600 /root/.kaggle/kaggle.json"
      ],
      "id": "EE5D-7bQgGYT",
      "execution_count": 6,
      "outputs": []
    },
    {
      "cell_type": "code",
      "metadata": {
        "colab": {
          "base_uri": "https://localhost:8080/"
        },
        "id": "i2r5sZlKgaj5",
        "outputId": "9b28872f-a0b5-4b16-f493-1b5168ab856b"
      },
      "source": [
        "!kaggle datasets download -d hidehisaarai1213/birdclef2021-effnetb0-starter-weight\n",
        "!kaggle datasets download -d kneroma/kkiller-birdclef-models-public\n",
        "!kaggle datasets download -d ttahara/resnest50-fast-package\n",
        "!kaggle datasets download -d kozodoi/timm-pytorch-image-models\n",
        "!kaggle datasets download -d kozistr/torchlibrosa"
      ],
      "id": "i2r5sZlKgaj5",
      "execution_count": 7,
      "outputs": [
        {
          "output_type": "stream",
          "text": [
            "Downloading birdclef2021-effnetb0-starter-weight.zip to /content\n",
            " 90% 33.0M/36.5M [00:00<00:00, 39.7MB/s]\n",
            "100% 36.5M/36.5M [00:00<00:00, 78.9MB/s]\n",
            "Downloading kkiller-birdclef-models-public.zip to /content\n",
            " 86% 80.0M/93.5M [00:01<00:00, 48.6MB/s]\n",
            "100% 93.5M/93.5M [00:01<00:00, 80.3MB/s]\n",
            "Downloading resnest50-fast-package.zip to /content\n",
            "100% 689M/692M [00:07<00:00, 91.0MB/s]\n",
            "100% 692M/692M [00:07<00:00, 97.1MB/s]\n",
            "Downloading timm-pytorch-image-models.zip to /content\n",
            " 64% 9.00M/14.1M [00:00<00:00, 15.6MB/s]\n",
            "100% 14.1M/14.1M [00:00<00:00, 19.7MB/s]\n",
            "Downloading torchlibrosa.zip to /content\n",
            "  0% 0.00/27.4k [00:00<?, ?B/s]\n",
            "100% 27.4k/27.4k [00:00<00:00, 25.2MB/s]\n"
          ],
          "name": "stdout"
        }
      ]
    },
    {
      "cell_type": "code",
      "metadata": {
        "id": "nKR1ZdJ3henT"
      },
      "source": [
        ""
      ],
      "id": "nKR1ZdJ3henT",
      "execution_count": 7,
      "outputs": []
    },
    {
      "cell_type": "code",
      "metadata": {
        "id": "EzsqgkMhg0Pl"
      },
      "source": [
        "!mkdir input/timm-pytorch-image-models\n",
        "!mkdir input/torchlibrosa\n",
        "!mkdir input/birdclef2021-effnetb0-starter-weight\n",
        "!mkdir input/kkiller-birdclef-models-public\n",
        "!mkdir input/resnest50-fast-package"
      ],
      "id": "EzsqgkMhg0Pl",
      "execution_count": 8,
      "outputs": []
    },
    {
      "cell_type": "code",
      "metadata": {
        "id": "RqAcPx07hIIs"
      },
      "source": [
        "!unzip timm-pytorch-image-models.zip -d input/timm-pytorch-image-models >/dev/null\n",
        "!unzip torchlibrosa.zip -d input/torchlibrosa >/dev/null\n",
        "!unzip birdclef2021-effnetb0-starter-weight.zip -d input/birdclef2021-effnetb0-starter-weight >/dev/null\n",
        "!unzip kkiller-birdclef-models-public -d input/kkiller-birdclef-models-public >/dev/null\n",
        "!unzip resnest50-fast-package -d input/resnest50-fast-package >/dev/null"
      ],
      "id": "RqAcPx07hIIs",
      "execution_count": 9,
      "outputs": []
    },
    {
      "cell_type": "markdown",
      "metadata": {
        "papermill": {
          "duration": 0.041769,
          "end_time": "2021-05-16T03:12:45.989937",
          "exception": false,
          "start_time": "2021-05-16T03:12:45.948168",
          "status": "completed"
        },
        "tags": [],
        "id": "frequent-steal"
      },
      "source": [
        "# パラメータ"
      ],
      "id": "frequent-steal"
    },
    {
      "cell_type": "code",
      "metadata": {
        "execution": {
          "iopub.execute_input": "2021-05-16T03:12:46.073085Z",
          "iopub.status.busy": "2021-05-16T03:12:46.071532Z",
          "iopub.status.idle": "2021-05-16T03:12:46.075709Z",
          "shell.execute_reply": "2021-05-16T03:12:46.075107Z"
        },
        "papermill": {
          "duration": 0.047369,
          "end_time": "2021-05-16T03:12:46.075843",
          "exception": false,
          "start_time": "2021-05-16T03:12:46.028474",
          "status": "completed"
        },
        "tags": [],
        "id": "ordinary-packaging"
      },
      "source": [
        "#STEP1_TH = 0.40\n",
        "#STEP2_TH = 0.37\n",
        "STEP1_TH = 0.35\n",
        "STEP2_TH = 0.35\n",
        "\n",
        "DIST_TH = 500"
      ],
      "id": "ordinary-packaging",
      "execution_count": 1,
      "outputs": []
    },
    {
      "cell_type": "code",
      "metadata": {
        "id": "OGuCofjme9ET",
        "colab": {
          "base_uri": "https://localhost:8080/"
        },
        "outputId": "4aa9edd2-4ee7-45aa-8e7c-e0fc3ab8eb0a"
      },
      "source": [
        "%cd output"
      ],
      "id": "OGuCofjme9ET",
      "execution_count": 2,
      "outputs": [
        {
          "output_type": "stream",
          "text": [
            "/content/output\n"
          ],
          "name": "stdout"
        }
      ]
    },
    {
      "cell_type": "markdown",
      "metadata": {
        "papermill": {
          "duration": 0.03788,
          "end_time": "2021-05-16T03:12:46.152288",
          "exception": false,
          "start_time": "2021-05-16T03:12:46.114408",
          "status": "completed"
        },
        "tags": [],
        "id": "hidden-london"
      },
      "source": [
        "# STEP1"
      ],
      "id": "hidden-london"
    },
    {
      "cell_type": "markdown",
      "metadata": {
        "papermill": {
          "duration": 0.039934,
          "end_time": "2021-05-16T03:12:46.230577",
          "exception": false,
          "start_time": "2021-05-16T03:12:46.190643",
          "status": "completed"
        },
        "tags": [],
        "id": "verbal-butterfly"
      },
      "source": [
        "* The inference is based on these [resnest50 weights](https://www.kaggle.com/kneroma/kkiller-birdclef-models-public). Please, don't forget upvoting the dataset to make it more visible for others\n",
        "* The inference pipeline is optimized as much as I can in order to reduce execution time"
      ],
      "id": "verbal-butterfly"
    },
    {
      "cell_type": "code",
      "metadata": {
        "papermill": {
          "duration": 0.038357,
          "end_time": "2021-05-16T03:12:46.309648",
          "exception": false,
          "start_time": "2021-05-16T03:12:46.271291",
          "status": "completed"
        },
        "tags": [],
        "id": "revised-clock"
      },
      "source": [
        ""
      ],
      "id": "revised-clock",
      "execution_count": 2,
      "outputs": []
    },
    {
      "cell_type": "markdown",
      "metadata": {
        "papermill": {
          "duration": 0.038143,
          "end_time": "2021-05-16T03:12:46.385420",
          "exception": false,
          "start_time": "2021-05-16T03:12:46.347277",
          "status": "completed"
        },
        "tags": [],
        "id": "commercial-queue"
      },
      "source": [
        "## 初期化"
      ],
      "id": "commercial-queue"
    },
    {
      "cell_type": "code",
      "metadata": {
        "execution": {
          "iopub.execute_input": "2021-05-16T03:12:47.305788Z",
          "iopub.status.busy": "2021-05-16T03:12:47.300993Z",
          "iopub.status.idle": "2021-05-16T03:13:15.827406Z",
          "shell.execute_reply": "2021-05-16T03:13:15.826652Z"
        },
        "papermill": {
          "duration": 28.569131,
          "end_time": "2021-05-16T03:13:15.827592",
          "exception": false,
          "start_time": "2021-05-16T03:12:47.258461",
          "status": "completed"
        },
        "tags": [],
        "id": "fallen-customer"
      },
      "source": [
        "try:\n",
        "    import resnest\n",
        "except ModuleNotFoundError:\n",
        "    !pip install -q \"../input/resnest50-fast-package/resnest-0.0.6b20200701/resnest\""
      ],
      "id": "fallen-customer",
      "execution_count": 3,
      "outputs": []
    },
    {
      "cell_type": "code",
      "metadata": {
        "papermill": {
          "duration": 0.066089,
          "end_time": "2021-05-16T03:13:15.959804",
          "exception": false,
          "start_time": "2021-05-16T03:13:15.893715",
          "status": "completed"
        },
        "tags": [],
        "id": "authorized-cambodia"
      },
      "source": [
        ""
      ],
      "id": "authorized-cambodia",
      "execution_count": 3,
      "outputs": []
    },
    {
      "cell_type": "code",
      "metadata": {
        "_cell_guid": "b1076dfc-b9ad-4769-8c92-a6c4dae69d19",
        "_uuid": "8f2839f25d086af736a60e9eeb907d3b93b6e0e5",
        "execution": {
          "iopub.execute_input": "2021-05-16T03:13:16.102603Z",
          "iopub.status.busy": "2021-05-16T03:13:16.101770Z",
          "iopub.status.idle": "2021-05-16T03:13:19.772678Z",
          "shell.execute_reply": "2021-05-16T03:13:19.772098Z"
        },
        "id": "waiting-thumb",
        "papermill": {
          "duration": 3.745554,
          "end_time": "2021-05-16T03:13:19.772824",
          "exception": false,
          "start_time": "2021-05-16T03:13:16.027270",
          "status": "completed"
        },
        "tags": []
      },
      "source": [
        "import numpy as np\n",
        "import librosa as lb\n",
        "import soundfile as sf\n",
        "import pandas as pd\n",
        "import cv2\n",
        "from pathlib import Path\n",
        "import re\n",
        "\n",
        "import torch\n",
        "from torch import nn\n",
        "from  torch.utils.data import Dataset, DataLoader\n",
        "\n",
        "from tqdm.notebook import tqdm\n",
        "\n",
        "import time\n",
        "from resnest.torch import resnest50"
      ],
      "id": "waiting-thumb",
      "execution_count": 4,
      "outputs": []
    },
    {
      "cell_type": "code",
      "metadata": {
        "papermill": {
          "duration": 0.038964,
          "end_time": "2021-05-16T03:13:19.850852",
          "exception": false,
          "start_time": "2021-05-16T03:13:19.811888",
          "status": "completed"
        },
        "tags": [],
        "id": "outdoor-magazine"
      },
      "source": [
        ""
      ],
      "id": "outdoor-magazine",
      "execution_count": 4,
      "outputs": []
    },
    {
      "cell_type": "markdown",
      "metadata": {
        "papermill": {
          "duration": 0.038357,
          "end_time": "2021-05-16T03:13:19.927703",
          "exception": false,
          "start_time": "2021-05-16T03:13:19.889346",
          "status": "completed"
        },
        "tags": [],
        "id": "whole-river"
      },
      "source": [
        "## 設定"
      ],
      "id": "whole-river"
    },
    {
      "cell_type": "code",
      "metadata": {
        "execution": {
          "iopub.execute_input": "2021-05-16T03:13:20.070598Z",
          "iopub.status.busy": "2021-05-16T03:13:20.069981Z",
          "iopub.status.idle": "2021-05-16T03:13:20.080618Z",
          "shell.execute_reply": "2021-05-16T03:13:20.081064Z"
        },
        "id": "union-milton",
        "papermill": {
          "duration": 0.114597,
          "end_time": "2021-05-16T03:13:20.081244",
          "exception": false,
          "start_time": "2021-05-16T03:13:19.966647",
          "status": "completed"
        },
        "tags": [],
        "colab": {
          "base_uri": "https://localhost:8080/"
        },
        "outputId": "6d8dd2c0-52ac-4f02-b314-c2fc0559a488"
      },
      "source": [
        "NUM_CLASSES = 397\n",
        "SR = 32_000\n",
        "DURATION = 5\n",
        "#THRESH = 0.28\n",
        "THRESH = STEP1_TH\n",
        "STEP = SR*DURATION\n",
        "\n",
        "\n",
        "# pytorhデバイス設定\n",
        "DEVICE = torch.device(\"cuda\" if torch.cuda.is_available() else \"cpu\")\n",
        "print(\"DEVICE:\", DEVICE)\n",
        "\n",
        "# 各フォルダ設定\n",
        "TEST_AUDIO_ROOT = Path(\"../input/birdclef-2021/test_soundscapes\")\n",
        "SAMPLE_SUB_PATH = \"../input/birdclef-2021/sample_submission.csv\"\n",
        "TARGET_PATH = None\n",
        "    \n",
        "if not len(list(TEST_AUDIO_ROOT.glob(\"*.ogg\"))):\n",
        "    TEST_AUDIO_ROOT = Path(\"../input/birdclef-2021/train_soundscapes\")\n",
        "    SAMPLE_SUB_PATH = None\n",
        "    # SAMPLE_SUB_PATH = \"../input/birdclef-2021/sample_submission.csv\"\n",
        "    TARGET_PATH = Path(\"../input/birdclef-2021/train_soundscape_labels.csv\")"
      ],
      "id": "union-milton",
      "execution_count": 5,
      "outputs": [
        {
          "output_type": "stream",
          "text": [
            "DEVICE: cuda\n"
          ],
          "name": "stdout"
        }
      ]
    },
    {
      "cell_type": "code",
      "metadata": {
        "papermill": {
          "duration": 0.040221,
          "end_time": "2021-05-16T03:13:20.163051",
          "exception": false,
          "start_time": "2021-05-16T03:13:20.122830",
          "status": "completed"
        },
        "tags": [],
        "id": "relative-experiment"
      },
      "source": [
        ""
      ],
      "id": "relative-experiment",
      "execution_count": 5,
      "outputs": []
    },
    {
      "cell_type": "markdown",
      "metadata": {
        "papermill": {
          "duration": 0.042035,
          "end_time": "2021-05-16T03:13:20.246779",
          "exception": false,
          "start_time": "2021-05-16T03:13:20.204744",
          "status": "completed"
        },
        "tags": [],
        "id": "satisfied-italic"
      },
      "source": [
        "## Data"
      ],
      "id": "satisfied-italic"
    },
    {
      "cell_type": "code",
      "metadata": {
        "execution": {
          "iopub.execute_input": "2021-05-16T03:13:20.333808Z",
          "iopub.status.busy": "2021-05-16T03:13:20.333126Z",
          "iopub.status.idle": "2021-05-16T03:13:20.337181Z",
          "shell.execute_reply": "2021-05-16T03:13:20.336765Z"
        },
        "id": "demonstrated-support",
        "papermill": {
          "duration": 0.049955,
          "end_time": "2021-05-16T03:13:20.337288",
          "exception": false,
          "start_time": "2021-05-16T03:13:20.287333",
          "status": "completed"
        },
        "tags": []
      },
      "source": [
        "# メルスペクトログラム\n",
        "class MelSpecComputer:\n",
        "    def __init__(self, sr, n_mels, fmin, fmax, **kwargs):\n",
        "        self.sr = sr\n",
        "        self.n_mels = n_mels\n",
        "        self.fmin = fmin\n",
        "        self.fmax = fmax\n",
        "        kwargs[\"n_fft\"] = kwargs.get(\"n_fft\", self.sr//10)\n",
        "        kwargs[\"hop_length\"] = kwargs.get(\"hop_length\", self.sr//(10*4))\n",
        "        self.kwargs = kwargs\n",
        "\n",
        "    def __call__(self, y):\n",
        "\n",
        "        melspec = lb.feature.melspectrogram(\n",
        "            y, sr=self.sr, n_mels=self.n_mels, fmin=self.fmin, fmax=self.fmax, **self.kwargs,\n",
        "        )\n",
        "        # dBに変換\n",
        "        melspec = lb.power_to_db(melspec).astype(np.float32)\n",
        "        return melspec"
      ],
      "id": "demonstrated-support",
      "execution_count": 6,
      "outputs": []
    },
    {
      "cell_type": "code",
      "metadata": {
        "execution": {
          "iopub.execute_input": "2021-05-16T03:13:20.424061Z",
          "iopub.status.busy": "2021-05-16T03:13:20.422274Z",
          "iopub.status.idle": "2021-05-16T03:13:20.424746Z",
          "shell.execute_reply": "2021-05-16T03:13:20.425139Z"
        },
        "id": "important-yemen",
        "papermill": {
          "duration": 0.049022,
          "end_time": "2021-05-16T03:13:20.425264",
          "exception": false,
          "start_time": "2021-05-16T03:13:20.376242",
          "status": "completed"
        },
        "tags": []
      },
      "source": [
        "def mono_to_color(X, eps=1e-6, mean=None, std=None):\n",
        "    # 平均と分散を計算\n",
        "    mean = mean or X.mean()\n",
        "    std = std or X.std()\n",
        "    # 標準化\n",
        "    X = (X - mean) / (std + eps)\n",
        "    \n",
        "    _min, _max = X.min(), X.max()\n",
        "\n",
        "    if (_max - _min) > eps:\n",
        "        # 0中心を0-1.0に戻している（？）\n",
        "        V = np.clip(X, _min, _max)\n",
        "        V = 255 * (V - _min) / (_max - _min)\n",
        "        V = V.astype(np.uint8)\n",
        "    else:\n",
        "        V = np.zeros_like(X, dtype=np.uint8)\n",
        "\n",
        "    return V\n",
        "\n",
        "def crop_or_pad(y, length):\n",
        "    # length以下ならpadding, 以上ならcrop\n",
        "    if len(y) < length:\n",
        "        y = np.concatenate([y, length - np.zeros(len(y))])\n",
        "    elif len(y) > length:\n",
        "        y = y[:length]\n",
        "    return y"
      ],
      "id": "important-yemen",
      "execution_count": 7,
      "outputs": []
    },
    {
      "cell_type": "code",
      "metadata": {
        "execution": {
          "iopub.execute_input": "2021-05-16T03:13:20.516539Z",
          "iopub.status.busy": "2021-05-16T03:13:20.511295Z",
          "iopub.status.idle": "2021-05-16T03:13:20.519086Z",
          "shell.execute_reply": "2021-05-16T03:13:20.518675Z"
        },
        "papermill": {
          "duration": 0.055037,
          "end_time": "2021-05-16T03:13:20.519194",
          "exception": false,
          "start_time": "2021-05-16T03:13:20.464157",
          "status": "completed"
        },
        "tags": [],
        "id": "increasing-gothic"
      },
      "source": [
        "class BirdCLEFDataset(Dataset):\n",
        "    def __init__(self, data, sr=SR, n_mels=128, fmin=0, fmax=None, duration=DURATION, \n",
        "                 step=None, res_type=\"kaiser_fast\", resample=True):\n",
        "        \n",
        "        self.data = data\n",
        "        \n",
        "        self.sr = sr\n",
        "        self.n_mels = n_mels\n",
        "        self.fmin = fmin\n",
        "        self.fmax = fmax or self.sr//2\n",
        "\n",
        "        self.duration = duration\n",
        "        self.audio_length = self.duration*self.sr\n",
        "        # デフォルト設定だと５秒単位で分割（STEPも重ならない）\n",
        "        #self.step = step or self.audio_length\n",
        "        self.step = STEP\n",
        "        \n",
        "        self.res_type = res_type\n",
        "        self.resample = resample\n",
        "\n",
        "        self.mel_spec_computer = MelSpecComputer(sr=self.sr, n_mels=self.n_mels, fmin=self.fmin,\n",
        "                                                 fmax=self.fmax)\n",
        "    def __len__(self):\n",
        "        return len(self.data)\n",
        "    \n",
        "    @staticmethod\n",
        "    def normalize(image):\n",
        "        image = image.astype(\"float32\", copy=False) / 255.0\n",
        "        image = np.stack([image, image, image])\n",
        "        return image\n",
        "    \n",
        "    def audio_to_image(self, audio):\n",
        "        melspec = self.mel_spec_computer(audio) \n",
        "        image = mono_to_color(melspec)\n",
        "        image = self.normalize(image)\n",
        "        return image\n",
        "\n",
        "    def read_file(self, filepath):\n",
        "        audio, orig_sr = sf.read(filepath, dtype=\"float32\")\n",
        "\n",
        "        if self.resample and orig_sr != self.sr:\n",
        "            audio = lb.resample(audio, orig_sr, self.sr, res_type=self.res_type)\n",
        "          \n",
        "        audios = []\n",
        "        for i in range(self.audio_length, len(audio) + self.step, self.step):\n",
        "            start = max(0, i - self.audio_length)\n",
        "            end = start + self.audio_length\n",
        "            audios.append(audio[start:end])\n",
        "            \n",
        "        if len(audios[-1]) < self.audio_length:\n",
        "            audios = audios[:-1]\n",
        "            \n",
        "        images = [self.audio_to_image(audio) for audio in audios]\n",
        "        images = np.stack(images)\n",
        "        \n",
        "        return images\n",
        "    \n",
        "        \n",
        "    def __getitem__(self, idx):\n",
        "        return self.read_file(self.data.loc[idx, \"filepath\"])"
      ],
      "id": "increasing-gothic",
      "execution_count": 8,
      "outputs": []
    },
    {
      "cell_type": "code",
      "metadata": {
        "execution": {
          "iopub.execute_input": "2021-05-16T03:13:20.602398Z",
          "iopub.status.busy": "2021-05-16T03:13:20.601765Z",
          "iopub.status.idle": "2021-05-16T03:13:20.633852Z",
          "shell.execute_reply": "2021-05-16T03:13:20.634526Z"
        },
        "id": "personalized-spotlight",
        "papermill": {
          "duration": 0.076332,
          "end_time": "2021-05-16T03:13:20.634665",
          "exception": false,
          "start_time": "2021-05-16T03:13:20.558333",
          "status": "completed"
        },
        "tags": [],
        "colab": {
          "base_uri": "https://localhost:8080/",
          "height": 221
        },
        "outputId": "0ec6069a-428f-4125-f4de-965ac1e4f5fd"
      },
      "source": [
        "# フォルダのファイル名からデータフレームを生成\n",
        "data = pd.DataFrame(\n",
        "     [(path.stem, *path.stem.split(\"_\"), path) for path in Path(TEST_AUDIO_ROOT).glob(\"*.ogg\")],\n",
        "    columns = [\"filename\", \"id\", \"site\", \"date\", \"filepath\"]\n",
        ")\n",
        "print(data.shape)\n",
        "data.head()"
      ],
      "id": "personalized-spotlight",
      "execution_count": 9,
      "outputs": [
        {
          "output_type": "stream",
          "text": [
            "(20, 5)\n"
          ],
          "name": "stdout"
        },
        {
          "output_type": "execute_result",
          "data": {
            "text/html": [
              "<div>\n",
              "<style scoped>\n",
              "    .dataframe tbody tr th:only-of-type {\n",
              "        vertical-align: middle;\n",
              "    }\n",
              "\n",
              "    .dataframe tbody tr th {\n",
              "        vertical-align: top;\n",
              "    }\n",
              "\n",
              "    .dataframe thead th {\n",
              "        text-align: right;\n",
              "    }\n",
              "</style>\n",
              "<table border=\"1\" class=\"dataframe\">\n",
              "  <thead>\n",
              "    <tr style=\"text-align: right;\">\n",
              "      <th></th>\n",
              "      <th>filename</th>\n",
              "      <th>id</th>\n",
              "      <th>site</th>\n",
              "      <th>date</th>\n",
              "      <th>filepath</th>\n",
              "    </tr>\n",
              "  </thead>\n",
              "  <tbody>\n",
              "    <tr>\n",
              "      <th>0</th>\n",
              "      <td>14473_SSW_20170701</td>\n",
              "      <td>14473</td>\n",
              "      <td>SSW</td>\n",
              "      <td>20170701</td>\n",
              "      <td>../input/birdclef-2021/train_soundscapes/14473...</td>\n",
              "    </tr>\n",
              "    <tr>\n",
              "      <th>1</th>\n",
              "      <td>57610_COR_20190904</td>\n",
              "      <td>57610</td>\n",
              "      <td>COR</td>\n",
              "      <td>20190904</td>\n",
              "      <td>../input/birdclef-2021/train_soundscapes/57610...</td>\n",
              "    </tr>\n",
              "    <tr>\n",
              "      <th>2</th>\n",
              "      <td>7843_SSW_20170325</td>\n",
              "      <td>7843</td>\n",
              "      <td>SSW</td>\n",
              "      <td>20170325</td>\n",
              "      <td>../input/birdclef-2021/train_soundscapes/7843_...</td>\n",
              "    </tr>\n",
              "    <tr>\n",
              "      <th>3</th>\n",
              "      <td>44957_COR_20190923</td>\n",
              "      <td>44957</td>\n",
              "      <td>COR</td>\n",
              "      <td>20190923</td>\n",
              "      <td>../input/birdclef-2021/train_soundscapes/44957...</td>\n",
              "    </tr>\n",
              "    <tr>\n",
              "      <th>4</th>\n",
              "      <td>11254_COR_20190904</td>\n",
              "      <td>11254</td>\n",
              "      <td>COR</td>\n",
              "      <td>20190904</td>\n",
              "      <td>../input/birdclef-2021/train_soundscapes/11254...</td>\n",
              "    </tr>\n",
              "  </tbody>\n",
              "</table>\n",
              "</div>"
            ],
            "text/plain": [
              "             filename  ...                                           filepath\n",
              "0  14473_SSW_20170701  ...  ../input/birdclef-2021/train_soundscapes/14473...\n",
              "1  57610_COR_20190904  ...  ../input/birdclef-2021/train_soundscapes/57610...\n",
              "2   7843_SSW_20170325  ...  ../input/birdclef-2021/train_soundscapes/7843_...\n",
              "3  44957_COR_20190923  ...  ../input/birdclef-2021/train_soundscapes/44957...\n",
              "4  11254_COR_20190904  ...  ../input/birdclef-2021/train_soundscapes/11254...\n",
              "\n",
              "[5 rows x 5 columns]"
            ]
          },
          "metadata": {
            "tags": []
          },
          "execution_count": 9
        }
      ]
    },
    {
      "cell_type": "code",
      "metadata": {
        "execution": {
          "iopub.execute_input": "2021-05-16T03:13:20.720279Z",
          "iopub.status.busy": "2021-05-16T03:13:20.719733Z",
          "iopub.status.idle": "2021-05-16T03:13:21.049377Z",
          "shell.execute_reply": "2021-05-16T03:13:21.048431Z"
        },
        "papermill": {
          "duration": 0.374798,
          "end_time": "2021-05-16T03:13:21.049532",
          "exception": false,
          "start_time": "2021-05-16T03:13:20.674734",
          "status": "completed"
        },
        "tags": [],
        "id": "equipped-municipality"
      },
      "source": [
        "# ラベルを生成（逆引きも生成）※ソートされている\n",
        "df_train = pd.read_csv(\"../input/birdclef-2021/train_metadata.csv\")\n",
        "\n",
        "LABEL_IDS = {label: label_id for label_id,label in enumerate(sorted(df_train[\"primary_label\"].unique()))}\n",
        "INV_LABEL_IDS = {val: key for key,val in LABEL_IDS.items()}"
      ],
      "id": "equipped-municipality",
      "execution_count": 10,
      "outputs": []
    },
    {
      "cell_type": "code",
      "metadata": {
        "papermill": {
          "duration": 0.041525,
          "end_time": "2021-05-16T03:13:21.131706",
          "exception": false,
          "start_time": "2021-05-16T03:13:21.090181",
          "status": "completed"
        },
        "tags": [],
        "id": "sharp-grill"
      },
      "source": [
        ""
      ],
      "id": "sharp-grill",
      "execution_count": 10,
      "outputs": []
    },
    {
      "cell_type": "markdown",
      "metadata": {
        "id": "peripheral-examination",
        "papermill": {
          "duration": 0.039985,
          "end_time": "2021-05-16T03:13:21.212335",
          "exception": false,
          "start_time": "2021-05-16T03:13:21.172350",
          "status": "completed"
        },
        "tags": []
      },
      "source": [
        "## 推論"
      ],
      "id": "peripheral-examination"
    },
    {
      "cell_type": "code",
      "metadata": {
        "execution": {
          "iopub.execute_input": "2021-05-16T03:13:21.298484Z",
          "iopub.status.busy": "2021-05-16T03:13:21.297942Z",
          "iopub.status.idle": "2021-05-16T03:13:24.738624Z",
          "shell.execute_reply": "2021-05-16T03:13:24.738000Z"
        },
        "id": "monetary-cookie",
        "papermill": {
          "duration": 3.48559,
          "end_time": "2021-05-16T03:13:24.738771",
          "exception": false,
          "start_time": "2021-05-16T03:13:21.253181",
          "status": "completed"
        },
        "tags": [],
        "colab": {
          "base_uri": "https://localhost:8080/"
        },
        "outputId": "6dd2eb75-7390-42ce-d9ba-687744bd9610"
      },
      "source": [
        "# テストデータ生成\n",
        "test_data = BirdCLEFDataset(data=data)\n",
        "len(test_data), test_data[0].shape"
      ],
      "id": "monetary-cookie",
      "execution_count": 11,
      "outputs": [
        {
          "output_type": "execute_result",
          "data": {
            "text/plain": [
              "(20, (120, 3, 128, 201))"
            ]
          },
          "metadata": {
            "tags": []
          },
          "execution_count": 11
        }
      ]
    },
    {
      "cell_type": "code",
      "metadata": {
        "execution": {
          "iopub.execute_input": "2021-05-16T03:13:24.886047Z",
          "iopub.status.busy": "2021-05-16T03:13:24.884266Z",
          "iopub.status.idle": "2021-05-16T03:13:24.886624Z",
          "shell.execute_reply": "2021-05-16T03:13:24.887016Z"
        },
        "papermill": {
          "duration": 0.063073,
          "end_time": "2021-05-16T03:13:24.887140",
          "exception": false,
          "start_time": "2021-05-16T03:13:24.824067",
          "status": "completed"
        },
        "tags": [],
        "id": "effective-characteristic"
      },
      "source": [
        "# ネット構成の読み込み\n",
        "def load_net(checkpoint_path, num_classes=NUM_CLASSES):\n",
        "    net = resnest50(pretrained=False)\n",
        "    net.fc = nn.Linear(net.fc.in_features, num_classes)\n",
        "    dummy_device = torch.device(\"cpu\")\n",
        "    d = torch.load(checkpoint_path, map_location=dummy_device)\n",
        "    for key in list(d.keys()):\n",
        "        d[key.replace(\"model.\", \"\")] = d.pop(key)\n",
        "    net.load_state_dict(d)\n",
        "    net = net.to(DEVICE)\n",
        "    net = net.eval()\n",
        "    return net"
      ],
      "id": "effective-characteristic",
      "execution_count": 12,
      "outputs": []
    },
    {
      "cell_type": "code",
      "metadata": {
        "execution": {
          "iopub.execute_input": "2021-05-16T03:13:24.975704Z",
          "iopub.status.busy": "2021-05-16T03:13:24.974937Z",
          "iopub.status.idle": "2021-05-16T03:13:32.398403Z",
          "shell.execute_reply": "2021-05-16T03:13:32.397931Z"
        },
        "id": "humanitarian-treatment",
        "papermill": {
          "duration": 7.469371,
          "end_time": "2021-05-16T03:13:32.398547",
          "exception": false,
          "start_time": "2021-05-16T03:13:24.929176",
          "status": "completed"
        },
        "tags": []
      },
      "source": [
        "checkpoint_paths = [\n",
        "    #Path(\"../input/kkiller-birdclef-models-public/birdclef_resnest50_fold0_epoch_10_f1_val_06471_20210417161101.pth\"),\n",
        "    Path('/content/input/birdcief_datas/aru2_birdclef_resnest50_fold0_epoch_07_f1_val_07532.pth'),\n",
        "    Path('/content/input/birdcief_datas/aru_birdclef_resnest50_fold1_epoch_01_f1_val_09064.pth'),\n",
        "    Path('/content/input/birdcief_datas/aru_birdclef_resnest50_fold2_epoch_09_f1_val_08110.pth'),\n",
        "    Path('/content/input/birdcief_datas/aru_birdclef_resnest50_fold3_epoch_09_f1_val_07958.pth')\n",
        "]\n",
        "\n",
        "nets = [\n",
        "        load_net(checkpoint_path.as_posix()) for checkpoint_path in checkpoint_paths\n",
        "]"
      ],
      "id": "humanitarian-treatment",
      "execution_count": 13,
      "outputs": []
    },
    {
      "cell_type": "code",
      "metadata": {
        "papermill": {
          "duration": 0.039858,
          "end_time": "2021-05-16T03:13:32.479040",
          "exception": false,
          "start_time": "2021-05-16T03:13:32.439182",
          "status": "completed"
        },
        "tags": [],
        "id": "marked-brush"
      },
      "source": [
        ""
      ],
      "id": "marked-brush",
      "execution_count": 13,
      "outputs": []
    },
    {
      "cell_type": "code",
      "metadata": {
        "execution": {
          "iopub.execute_input": "2021-05-16T03:13:32.564900Z",
          "iopub.status.busy": "2021-05-16T03:13:32.564200Z",
          "iopub.status.idle": "2021-05-16T03:13:32.568085Z",
          "shell.execute_reply": "2021-05-16T03:13:32.567627Z"
        },
        "papermill": {
          "duration": 0.04902,
          "end_time": "2021-05-16T03:13:32.568191",
          "exception": false,
          "start_time": "2021-05-16T03:13:32.519171",
          "status": "completed"
        },
        "tags": [],
        "id": "durable-dream"
      },
      "source": [
        "# @ no_gradは勾配計算をパスするコンテキスト\n",
        "@torch.no_grad()\n",
        "def get_thresh_preds(out, thresh=None):\n",
        "    thresh = THRESH\n",
        "    o = (-out).argsort(1) # インデックス番号\n",
        "    npreds = (out > thresh).sum(1) # thを超えた数\n",
        "    preds = []\n",
        "    for oo, npred in zip(o, npreds):\n",
        "        preds.append(oo[:npred].cpu().numpy().tolist())\n",
        "    return preds"
      ],
      "id": "durable-dream",
      "execution_count": 14,
      "outputs": []
    },
    {
      "cell_type": "code",
      "metadata": {
        "execution": {
          "iopub.execute_input": "2021-05-16T03:13:32.652899Z",
          "iopub.status.busy": "2021-05-16T03:13:32.652322Z",
          "iopub.status.idle": "2021-05-16T03:13:32.656169Z",
          "shell.execute_reply": "2021-05-16T03:13:32.655684Z"
        },
        "papermill": {
          "duration": 0.047932,
          "end_time": "2021-05-16T03:13:32.656271",
          "exception": false,
          "start_time": "2021-05-16T03:13:32.608339",
          "status": "completed"
        },
        "tags": [],
        "id": "civilian-principal"
      },
      "source": [
        "def get_bird_names(preds):\n",
        "    bird_names = []\n",
        "    for pred in preds:\n",
        "        if not pred:\n",
        "            bird_names.append(\"nocall\")\n",
        "        else:\n",
        "            bird_names.append(\" \".join([INV_LABEL_IDS[bird_id] for bird_id in pred]))\n",
        "    return bird_names"
      ],
      "id": "civilian-principal",
      "execution_count": 15,
      "outputs": []
    },
    {
      "cell_type": "code",
      "metadata": {
        "papermill": {
          "duration": 0.040249,
          "end_time": "2021-05-16T03:13:32.736972",
          "exception": false,
          "start_time": "2021-05-16T03:13:32.696723",
          "status": "completed"
        },
        "tags": [],
        "id": "freelance-field"
      },
      "source": [
        ""
      ],
      "id": "freelance-field",
      "execution_count": 15,
      "outputs": []
    },
    {
      "cell_type": "code",
      "metadata": {
        "execution": {
          "iopub.execute_input": "2021-05-16T03:13:32.824953Z",
          "iopub.status.busy": "2021-05-16T03:13:32.824371Z",
          "iopub.status.idle": "2021-05-16T03:13:32.828013Z",
          "shell.execute_reply": "2021-05-16T03:13:32.828393Z"
        },
        "papermill": {
          "duration": 0.050778,
          "end_time": "2021-05-16T03:13:32.828533",
          "exception": false,
          "start_time": "2021-05-16T03:13:32.777755",
          "status": "completed"
        },
        "tags": [],
        "id": "bibliographic-colorado"
      },
      "source": [
        "def predict(nets, test_data, names=True):\n",
        "    preds = []\n",
        "    with torch.no_grad():\n",
        "        for idx in  tqdm(list(range(len(test_data)))):\n",
        "            xb = torch.from_numpy(test_data[idx]).to(DEVICE)\n",
        "            pred = 0.\n",
        "            for net in nets:\n",
        "                o = net(xb)\n",
        "                o = torch.sigmoid(o)\n",
        "\n",
        "                pred += o\n",
        "\n",
        "            pred /= len(nets)\n",
        "            \n",
        "            if names:\n",
        "                pred = get_bird_names(get_thresh_preds(pred, 0.5))\n",
        "\n",
        "            preds.append(pred)\n",
        "    return preds"
      ],
      "id": "bibliographic-colorado",
      "execution_count": 16,
      "outputs": []
    },
    {
      "cell_type": "code",
      "metadata": {
        "execution": {
          "iopub.execute_input": "2021-05-16T03:13:32.935992Z",
          "iopub.status.busy": "2021-05-16T03:13:32.913468Z",
          "iopub.status.idle": "2021-05-16T03:14:37.446662Z",
          "shell.execute_reply": "2021-05-16T03:14:37.444094Z"
        },
        "papermill": {
          "duration": 64.577875,
          "end_time": "2021-05-16T03:14:37.446834",
          "exception": false,
          "start_time": "2021-05-16T03:13:32.868959",
          "status": "completed"
        },
        "tags": [],
        "id": "familiar-blood",
        "colab": {
          "base_uri": "https://localhost:8080/",
          "height": 49,
          "referenced_widgets": [
            "8ef55f58121c4b2e9e602178197c415a",
            "50d7dd0c02f247f097853cd0220a555c",
            "3e54996d4ed64444b8a02592be8af8c2",
            "748bae8e8778449bb3f3ae6209bca505",
            "4386faa2f27e4284b823b543ac1b12ab",
            "d5960ef2485545a1bd9e82e9bd3a37a8",
            "271443306bfb4c17a1a4d3e593649b0a",
            "e6db65e7f3ed4ed29b91db8f7c7b2992"
          ]
        },
        "outputId": "1a064427-e851-4045-cc9d-f614b3dfac92"
      },
      "source": [
        "pred_probas = predict(nets, test_data, names=False)\n",
        "print(len(pred_probas))"
      ],
      "id": "familiar-blood",
      "execution_count": null,
      "outputs": [
        {
          "output_type": "display_data",
          "data": {
            "application/vnd.jupyter.widget-view+json": {
              "model_id": "8ef55f58121c4b2e9e602178197c415a",
              "version_minor": 0,
              "version_major": 2
            },
            "text/plain": [
              "HBox(children=(FloatProgress(value=0.0, max=20.0), HTML(value='')))"
            ]
          },
          "metadata": {
            "tags": []
          }
        }
      ]
    },
    {
      "cell_type": "code",
      "metadata": {
        "execution": {
          "iopub.execute_input": "2021-05-16T03:14:37.538179Z",
          "iopub.status.busy": "2021-05-16T03:14:37.537633Z",
          "iopub.status.idle": "2021-05-16T03:14:37.707878Z",
          "shell.execute_reply": "2021-05-16T03:14:37.707438Z"
        },
        "papermill": {
          "duration": 0.217518,
          "end_time": "2021-05-16T03:14:37.708000",
          "exception": false,
          "start_time": "2021-05-16T03:14:37.490482",
          "status": "completed"
        },
        "tags": [],
        "id": "acquired-carol"
      },
      "source": [
        "preds = [get_bird_names(get_thresh_preds(pred, thresh=THRESH)) for pred in pred_probas]"
      ],
      "id": "acquired-carol",
      "execution_count": null,
      "outputs": []
    },
    {
      "cell_type": "code",
      "metadata": {
        "papermill": {
          "duration": 0.0428,
          "end_time": "2021-05-16T03:14:37.793170",
          "exception": false,
          "start_time": "2021-05-16T03:14:37.750370",
          "status": "completed"
        },
        "tags": [],
        "id": "geographic-shower"
      },
      "source": [
        ""
      ],
      "id": "geographic-shower",
      "execution_count": null,
      "outputs": []
    },
    {
      "cell_type": "markdown",
      "metadata": {
        "papermill": {
          "duration": 0.041768,
          "end_time": "2021-05-16T03:14:37.877209",
          "exception": false,
          "start_time": "2021-05-16T03:14:37.835441",
          "status": "completed"
        },
        "tags": [],
        "id": "intermediate-respondent"
      },
      "source": [
        "# STEP2"
      ],
      "id": "intermediate-respondent"
    },
    {
      "cell_type": "code",
      "metadata": {
        "execution": {
          "iopub.execute_input": "2021-05-16T03:14:37.966117Z",
          "iopub.status.busy": "2021-05-16T03:14:37.965543Z",
          "iopub.status.idle": "2021-05-16T03:15:32.389957Z",
          "shell.execute_reply": "2021-05-16T03:15:32.389395Z"
        },
        "papermill": {
          "duration": 54.471205,
          "end_time": "2021-05-16T03:15:32.390091",
          "exception": false,
          "start_time": "2021-05-16T03:14:37.918886",
          "status": "completed"
        },
        "tags": [],
        "id": "fifteen-marshall"
      },
      "source": [
        "!pip install ../input/timm-pytorch-image-models/pytorch-image-models-master/\n",
        "!pip install ../input/torchlibrosa/torchlibrosa-0.0.5-py3-none-any.whl"
      ],
      "id": "fifteen-marshall",
      "execution_count": null,
      "outputs": []
    },
    {
      "cell_type": "code",
      "metadata": {
        "execution": {
          "iopub.execute_input": "2021-05-16T03:15:32.490347Z",
          "iopub.status.busy": "2021-05-16T03:15:32.489549Z",
          "iopub.status.idle": "2021-05-16T03:15:34.280773Z",
          "shell.execute_reply": "2021-05-16T03:15:34.279762Z"
        },
        "papermill": {
          "duration": 1.843005,
          "end_time": "2021-05-16T03:15:34.280925",
          "exception": false,
          "start_time": "2021-05-16T03:15:32.437920",
          "status": "completed"
        },
        "tags": [],
        "id": "durable-angel"
      },
      "source": [
        "import cv2\n",
        "import audioread\n",
        "import logging\n",
        "import os\n",
        "import random\n",
        "import time\n",
        "import warnings\n",
        "\n",
        "import librosa\n",
        "import numpy as np\n",
        "import pandas as pd\n",
        "import soundfile as sf\n",
        "import timm\n",
        "import torch\n",
        "import torch.nn as nn\n",
        "import torch.nn.functional as F\n",
        "import torch.utils.data as torchdata\n",
        "\n",
        "from contextlib import contextmanager\n",
        "from pathlib import Path\n",
        "from typing import Optional\n",
        "\n",
        "from albumentations.core.transforms_interface import ImageOnlyTransform\n",
        "from torchlibrosa.stft import LogmelFilterBank, Spectrogram\n",
        "from torchlibrosa.augmentation import SpecAugmentation\n",
        "from tqdm import tqdm"
      ],
      "id": "durable-angel",
      "execution_count": null,
      "outputs": []
    },
    {
      "cell_type": "code",
      "metadata": {
        "execution": {
          "iopub.execute_input": "2021-05-16T03:15:34.387885Z",
          "iopub.status.busy": "2021-05-16T03:15:34.385999Z",
          "iopub.status.idle": "2021-05-16T03:15:34.388552Z",
          "shell.execute_reply": "2021-05-16T03:15:34.388964Z"
        },
        "papermill": {
          "duration": 0.061036,
          "end_time": "2021-05-16T03:15:34.389107",
          "exception": false,
          "start_time": "2021-05-16T03:15:34.328071",
          "status": "completed"
        },
        "tags": [],
        "id": "logical-worth"
      },
      "source": [
        "def set_seed(seed: int = 42):\n",
        "    random.seed(seed)\n",
        "    np.random.seed(seed)\n",
        "    os.environ[\"PYTHONHASHSEED\"] = str(seed)\n",
        "    torch.manual_seed(seed)\n",
        "    torch.cuda.manual_seed(seed)  # type: ignore\n",
        "    torch.backends.cudnn.deterministic = True  # type: ignore\n",
        "    torch.backends.cudnn.benchmark = True  # type: ignore\n",
        "    \n",
        "    \n",
        "def get_logger(out_file=None):\n",
        "    logger = logging.getLogger()\n",
        "    formatter = logging.Formatter(\"%(asctime)s - %(levelname)s - %(message)s\")\n",
        "    logger.handlers = []\n",
        "    logger.setLevel(logging.INFO)\n",
        "\n",
        "    handler = logging.StreamHandler()\n",
        "    handler.setFormatter(formatter)\n",
        "    handler.setLevel(logging.INFO)\n",
        "    logger.addHandler(handler)\n",
        "\n",
        "    if out_file is not None:\n",
        "        fh = logging.FileHandler(out_file)\n",
        "        fh.setFormatter(formatter)\n",
        "        fh.setLevel(logging.INFO)\n",
        "        logger.addHandler(fh)\n",
        "    logger.info(\"logger set up\")\n",
        "    return logger\n",
        "    \n",
        "    \n",
        "@contextmanager\n",
        "def timer(name: str, logger: Optional[logging.Logger] = None):\n",
        "    t0 = time.time()\n",
        "    msg = f\"[{name}] start\"\n",
        "    if logger is None:\n",
        "        print(msg)\n",
        "    else:\n",
        "        logger.info(msg)\n",
        "    yield\n",
        "\n",
        "    msg = f\"[{name}] done in {time.time() - t0:.2f} s\"\n",
        "    if logger is None:\n",
        "        print(msg)\n",
        "    else:\n",
        "        logger.info(msg)"
      ],
      "id": "logical-worth",
      "execution_count": null,
      "outputs": []
    },
    {
      "cell_type": "code",
      "metadata": {
        "execution": {
          "iopub.execute_input": "2021-05-16T03:15:34.487279Z",
          "iopub.status.busy": "2021-05-16T03:15:34.486187Z",
          "iopub.status.idle": "2021-05-16T03:15:34.490280Z",
          "shell.execute_reply": "2021-05-16T03:15:34.490717Z"
        },
        "papermill": {
          "duration": 0.056135,
          "end_time": "2021-05-16T03:15:34.490874",
          "exception": false,
          "start_time": "2021-05-16T03:15:34.434739",
          "status": "completed"
        },
        "tags": [],
        "id": "gorgeous-allowance"
      },
      "source": [
        "logger = get_logger(\"main.log\")\n",
        "set_seed(1213)"
      ],
      "id": "gorgeous-allowance",
      "execution_count": null,
      "outputs": []
    },
    {
      "cell_type": "markdown",
      "metadata": {
        "id": "fwRkrNvm7F-Y"
      },
      "source": [
        "## 設定"
      ],
      "id": "fwRkrNvm7F-Y"
    },
    {
      "cell_type": "code",
      "metadata": {
        "execution": {
          "iopub.execute_input": "2021-05-16T03:15:34.609695Z",
          "iopub.status.busy": "2021-05-16T03:15:34.592535Z",
          "iopub.status.idle": "2021-05-16T03:15:34.612530Z",
          "shell.execute_reply": "2021-05-16T03:15:34.612017Z"
        },
        "papermill": {
          "duration": 0.075506,
          "end_time": "2021-05-16T03:15:34.612666",
          "exception": false,
          "start_time": "2021-05-16T03:15:34.537160",
          "status": "completed"
        },
        "tags": [],
        "id": "bulgarian-chain"
      },
      "source": [
        "class CFG:\n",
        "    ######################\n",
        "    # Globals #\n",
        "    ######################\n",
        "    seed = 1213\n",
        "    epochs = 35\n",
        "    train = True\n",
        "    folds = [0]\n",
        "    img_size = 224\n",
        "    main_metric = \"epoch_f1_at_05\"\n",
        "    minimize_metric = False\n",
        "\n",
        "    ######################\n",
        "    # Data #\n",
        "    ######################\n",
        "    train_datadir = Path(\"../input/birdclef-2021/train_short_audio\")\n",
        "    train_csv = \"../input/birdclef-2021/train_metadata.csv\"\n",
        "    train_soundscape = \"../input/birdclef-2021/train_soundscape_labels.csv\"\n",
        "\n",
        "    ######################\n",
        "    # Dataset #\n",
        "    ######################\n",
        "    transforms = {\n",
        "        \"train\": [{\"name\": \"Normalize\"}],\n",
        "        \"valid\": [{\"name\": \"Normalize\"}],\n",
        "        \"test\": [{\"name\": \"Normalize\"}]\n",
        "    }\n",
        "    period = 20\n",
        "    n_mels = 128\n",
        "    fmin = 20\n",
        "    fmax = 16000\n",
        "    n_fft = 2048\n",
        "    hop_length = 512\n",
        "    sample_rate = 32000\n",
        "    melspectrogram_parameters = {\n",
        "        \"n_mels\": 224,\n",
        "        \"fmin\": 20,\n",
        "        \"fmax\": 16000\n",
        "    }\n",
        "\n",
        "    target_columns = [\n",
        "        'acafly', 'acowoo', 'aldfly', 'ameavo', 'amecro',\n",
        "        'amegfi', 'amekes', 'amepip', 'amered', 'amerob',\n",
        "        'amewig', 'amtspa', 'andsol1', 'annhum', 'astfly',\n",
        "        'azaspi1', 'babwar', 'baleag', 'balori', 'banana',\n",
        "        'banswa', 'banwre1', 'barant1', 'barswa', 'batpig1',\n",
        "        'bawswa1', 'bawwar', 'baywre1', 'bbwduc', 'bcnher',\n",
        "        'belkin1', 'belvir', 'bewwre', 'bkbmag1', 'bkbplo',\n",
        "        'bkbwar', 'bkcchi', 'bkhgro', 'bkmtou1', 'bknsti', 'blbgra1',\n",
        "        'blbthr1', 'blcjay1', 'blctan1', 'blhpar1', 'blkpho',\n",
        "        'blsspa1', 'blugrb1', 'blujay', 'bncfly', 'bnhcow', 'bobfly1',\n",
        "        'bongul', 'botgra', 'brbmot1', 'brbsol1', 'brcvir1', 'brebla',\n",
        "        'brncre', 'brnjay', 'brnthr', 'brratt1', 'brwhaw', 'brwpar1',\n",
        "        'btbwar', 'btnwar', 'btywar', 'bucmot2', 'buggna', 'bugtan',\n",
        "        'buhvir', 'bulori', 'burwar1', 'bushti', 'butsal1', 'buwtea',\n",
        "        'cacgoo1', 'cacwre', 'calqua', 'caltow', 'cangoo', 'canwar',\n",
        "        'carchi', 'carwre', 'casfin', 'caskin', 'caster1', 'casvir',\n",
        "        'categr', 'ccbfin', 'cedwax', 'chbant1', 'chbchi', 'chbwre1',\n",
        "        'chcant2', 'chispa', 'chswar', 'cinfly2', 'clanut', 'clcrob',\n",
        "        'cliswa', 'cobtan1', 'cocwoo1', 'cogdov', 'colcha1', 'coltro1',\n",
        "        'comgol', 'comgra', 'comloo', 'commer', 'compau', 'compot1',\n",
        "        'comrav', 'comyel', 'coohaw', 'cotfly1', 'cowscj1', 'cregua1',\n",
        "        'creoro1', 'crfpar', 'cubthr', 'daejun', 'dowwoo', 'ducfly', 'dusfly',\n",
        "        'easblu', 'easkin', 'easmea', 'easpho', 'eastow', 'eawpew', 'eletro',\n",
        "        'eucdov', 'eursta', 'fepowl', 'fiespa', 'flrtan1', 'foxspa', 'gadwal',\n",
        "        'gamqua', 'gartro1', 'gbbgul', 'gbwwre1', 'gcrwar', 'gilwoo',\n",
        "        'gnttow', 'gnwtea', 'gocfly1', 'gockin', 'gocspa', 'goftyr1',\n",
        "        'gohque1', 'goowoo1', 'grasal1', 'grbani', 'grbher3', 'grcfly',\n",
        "        'greegr', 'grekis', 'grepew', 'grethr1', 'gretin1', 'greyel',\n",
        "        'grhcha1', 'grhowl', 'grnher', 'grnjay', 'grtgra', 'grycat',\n",
        "        'gryhaw2', 'gwfgoo', 'haiwoo', 'heptan', 'hergul', 'herthr',\n",
        "        'herwar', 'higmot1', 'hofwoo1', 'houfin', 'houspa', 'houwre',\n",
        "        'hutvir', 'incdov', 'indbun', 'kebtou1', 'killde', 'labwoo', 'larspa',\n",
        "        'laufal1', 'laugul', 'lazbun', 'leafly', 'leasan', 'lesgol', 'lesgre1',\n",
        "        'lesvio1', 'linspa', 'linwoo1', 'littin1', 'lobdow', 'lobgna5', 'logshr',\n",
        "        'lotduc', 'lotman1', 'lucwar', 'macwar', 'magwar', 'mallar3', 'marwre',\n",
        "        'mastro1', 'meapar', 'melbla1', 'monoro1', 'mouchi', 'moudov', 'mouela1',\n",
        "        'mouqua', 'mouwar', 'mutswa', 'naswar', 'norcar', 'norfli', 'normoc', 'norpar',\n",
        "        'norsho', 'norwat', 'nrwswa', 'nutwoo', 'oaktit', 'obnthr1', 'ocbfly1',\n",
        "        'oliwoo1', 'olsfly', 'orbeup1', 'orbspa1', 'orcpar', 'orcwar', 'orfpar',\n",
        "        'osprey', 'ovenbi1', 'pabspi1', 'paltan1', 'palwar', 'pasfly', 'pavpig2',\n",
        "        'phivir', 'pibgre', 'pilwoo', 'pinsis', 'pirfly1', 'plawre1', 'plaxen1',\n",
        "        'plsvir', 'plupig2', 'prowar', 'purfin', 'purgal2', 'putfru1', 'pygnut',\n",
        "        'rawwre1', 'rcatan1', 'rebnut', 'rebsap', 'rebwoo', 'redcro', 'reevir1',\n",
        "        'rehbar1', 'relpar', 'reshaw', 'rethaw', 'rewbla', 'ribgul', 'rinkin1',\n",
        "        'roahaw', 'robgro', 'rocpig', 'rotbec', 'royter1', 'rthhum', 'rtlhum',\n",
        "        'ruboro1', 'rubpep1', 'rubrob', 'rubwre1', 'ruckin', 'rucspa1', 'rucwar',\n",
        "        'rucwar1', 'rudpig', 'rudtur', 'rufhum', 'rugdov', 'rumfly1', 'runwre1',\n",
        "        'rutjac1', 'saffin', 'sancra', 'sander', 'savspa', 'saypho', 'scamac1',\n",
        "        'scatan', 'scbwre1', 'scptyr1', 'scrtan1', 'semplo', 'shicow', 'sibtan2',\n",
        "        'sinwre1', 'sltred', 'smbani', 'snogoo', 'sobtyr1', 'socfly1', 'solsan',\n",
        "        'sonspa', 'soulap1', 'sposan', 'spotow', 'spvear1', 'squcuc1', 'stbori',\n",
        "        'stejay', 'sthant1', 'sthwoo1', 'strcuc1', 'strfly1', 'strsal1', 'stvhum2',\n",
        "        'subfly', 'sumtan', 'swaspa', 'swathr', 'tenwar', 'thbeup1', 'thbkin',\n",
        "        'thswar1', 'towsol', 'treswa', 'trogna1', 'trokin', 'tromoc', 'tropar',\n",
        "        'tropew1', 'tuftit', 'tunswa', 'veery', 'verdin', 'vigswa', 'warvir',\n",
        "        'wbwwre1', 'webwoo1', 'wegspa1', 'wesant1', 'wesblu', 'weskin', 'wesmea',\n",
        "        'westan', 'wewpew', 'whbman1', 'whbnut', 'whcpar', 'whcsee1', 'whcspa',\n",
        "        'whevir', 'whfpar1', 'whimbr', 'whiwre1', 'whtdov', 'whtspa', 'whwbec1',\n",
        "        'whwdov', 'wilfly', 'willet1', 'wilsni1', 'wiltur', 'wlswar', 'wooduc',\n",
        "        'woothr', 'wrenti', 'y00475', 'yebcha', 'yebela1', 'yebfly', 'yebori1',\n",
        "        'yebsap', 'yebsee1', 'yefgra1', 'yegvir', 'yehbla', 'yehcar1', 'yelgro',\n",
        "        'yelwar', 'yeofly1', 'yerwar', 'yeteup1', 'yetvir']\n",
        "\n",
        "    ######################\n",
        "    # Loaders #\n",
        "    ######################\n",
        "    loader_params = {\n",
        "        \"train\": {\n",
        "            \"batch_size\": 64,\n",
        "            \"num_workers\": 20,\n",
        "            \"shuffle\": True\n",
        "        },\n",
        "        \"valid\": {\n",
        "            \"batch_size\": 64,\n",
        "            \"num_workers\": 20,\n",
        "            \"shuffle\": False\n",
        "        },\n",
        "        \"test\": {\n",
        "            \"batch_size\": 64,\n",
        "            \"num_workers\": 20,\n",
        "            \"shuffle\": False\n",
        "        }\n",
        "    }\n",
        "\n",
        "    ######################\n",
        "    # Split #\n",
        "    ######################\n",
        "    split = \"StratifiedKFold\"\n",
        "    split_params = {\n",
        "        \"n_splits\": 5,\n",
        "        \"shuffle\": True,\n",
        "        \"random_state\": 1213\n",
        "    }\n",
        "\n",
        "    ######################\n",
        "    # Model #\n",
        "    ######################\n",
        "    base_model_name = \"tf_efficientnet_b0_ns\"\n",
        "    pooling = \"max\"\n",
        "    pretrained = True\n",
        "    num_classes = 397\n",
        "    in_channels = 1\n",
        "\n",
        "    ######################\n",
        "    # Criterion #\n",
        "    ######################\n",
        "    loss_name = \"BCEFocal2WayLoss\"\n",
        "    loss_params: dict = {}\n",
        "\n",
        "    ######################\n",
        "    # Optimizer #\n",
        "    ######################\n",
        "    optimizer_name = \"Adam\"\n",
        "    base_optimizer = \"Adam\"\n",
        "    optimizer_params = {\n",
        "        \"lr\": 0.001\n",
        "    }\n",
        "    # For SAM optimizer\n",
        "    base_optimizer = \"Adam\"\n",
        "\n",
        "    ######################\n",
        "    # Scheduler #\n",
        "    ######################\n",
        "    scheduler_name = \"CosineAnnealingLR\"\n",
        "    scheduler_params = {\n",
        "        \"T_max\": 10\n",
        "    }"
      ],
      "id": "bulgarian-chain",
      "execution_count": null,
      "outputs": []
    },
    {
      "cell_type": "code",
      "metadata": {
        "execution": {
          "iopub.execute_input": "2021-05-16T03:15:34.708591Z",
          "iopub.status.busy": "2021-05-16T03:15:34.708044Z",
          "iopub.status.idle": "2021-05-16T03:15:34.714958Z",
          "shell.execute_reply": "2021-05-16T03:15:34.714436Z"
        },
        "papermill": {
          "duration": 0.056543,
          "end_time": "2021-05-16T03:15:34.715078",
          "exception": false,
          "start_time": "2021-05-16T03:15:34.658535",
          "status": "completed"
        },
        "tags": [],
        "id": "painted-vanilla"
      },
      "source": [
        "TARGET_SR = 32000\n",
        "TEST = (len(list(Path(\"../input/birdclef-2021/test_soundscapes/\").glob(\"*.ogg\"))) != 0)\n",
        "if TEST:\n",
        "    DATADIR = Path(\"../input/birdclef-2021/test_soundscapes/\")\n",
        "else:\n",
        "    DATADIR = Path(\"../input/birdclef-2021/train_soundscapes/\")"
      ],
      "id": "painted-vanilla",
      "execution_count": null,
      "outputs": []
    },
    {
      "cell_type": "code",
      "metadata": {
        "execution": {
          "iopub.execute_input": "2021-05-16T03:15:34.812194Z",
          "iopub.status.busy": "2021-05-16T03:15:34.811468Z",
          "iopub.status.idle": "2021-05-16T03:15:34.822917Z",
          "shell.execute_reply": "2021-05-16T03:15:34.822478Z"
        },
        "papermill": {
          "duration": 0.061902,
          "end_time": "2021-05-16T03:15:34.823037",
          "exception": false,
          "start_time": "2021-05-16T03:15:34.761135",
          "status": "completed"
        },
        "tags": [],
        "id": "daily-worth"
      },
      "source": [
        "all_audios = list(DATADIR.glob(\"*.ogg\"))\n",
        "all_audio_ids = [\"_\".join(audio_id.name.split(\"_\")[:2]) for audio_id in all_audios]\n",
        "submission_df = pd.DataFrame({\n",
        "    \"row_id\": all_audio_ids\n",
        "})\n",
        "submission_df"
      ],
      "id": "daily-worth",
      "execution_count": null,
      "outputs": []
    },
    {
      "cell_type": "code",
      "metadata": {
        "execution": {
          "iopub.execute_input": "2021-05-16T03:15:34.958409Z",
          "iopub.status.busy": "2021-05-16T03:15:34.956327Z",
          "iopub.status.idle": "2021-05-16T03:15:34.959064Z",
          "shell.execute_reply": "2021-05-16T03:15:34.959478Z"
        },
        "papermill": {
          "duration": 0.089656,
          "end_time": "2021-05-16T03:15:34.959661",
          "exception": false,
          "start_time": "2021-05-16T03:15:34.870005",
          "status": "completed"
        },
        "tags": [],
        "id": "subtle-olympus"
      },
      "source": [
        "def init_layer(layer):\n",
        "    nn.init.xavier_uniform_(layer.weight)\n",
        "\n",
        "    if hasattr(layer, \"bias\"):\n",
        "        if layer.bias is not None:\n",
        "            layer.bias.data.fill_(0.)\n",
        "\n",
        "\n",
        "def init_bn(bn):\n",
        "    bn.bias.data.fill_(0.)\n",
        "    bn.weight.data.fill_(1.0)\n",
        "\n",
        "\n",
        "def init_weights(model):\n",
        "    classname = model.__class__.__name__\n",
        "    if classname.find(\"Conv2d\") != -1:\n",
        "        nn.init.xavier_uniform_(model.weight, gain=np.sqrt(2))\n",
        "        model.bias.data.fill_(0)\n",
        "    elif classname.find(\"BatchNorm\") != -1:\n",
        "        model.weight.data.normal_(1.0, 0.02)\n",
        "        model.bias.data.fill_(0)\n",
        "    elif classname.find(\"GRU\") != -1:\n",
        "        for weight in model.parameters():\n",
        "            if len(weight.size()) > 1:\n",
        "                nn.init.orghogonal_(weight.data)\n",
        "    elif classname.find(\"Linear\") != -1:\n",
        "        model.weight.data.normal_(0, 0.01)\n",
        "        model.bias.data.zero_()\n",
        "\n",
        "\n",
        "def do_mixup(x: torch.Tensor, mixup_lambda: torch.Tensor):\n",
        "    \"\"\"Mixup x of even indexes (0, 2, 4, ...) with x of odd indexes\n",
        "    (1, 3, 5, ...).\n",
        "    Args:\n",
        "      x: (batch_size * 2, ...)\n",
        "      mixup_lambda: (batch_size * 2,)\n",
        "    Returns:\n",
        "      out: (batch_size, ...)\n",
        "    \"\"\"\n",
        "    out = (x[0::2].transpose(0, -1) * mixup_lambda[0::2] +\n",
        "           x[1::2].transpose(0, -1) * mixup_lambda[1::2]).transpose(0, -1)\n",
        "    return out\n",
        "\n",
        "\n",
        "class Mixup(object):\n",
        "    def __init__(self, mixup_alpha, random_seed=1234):\n",
        "        \"\"\"Mixup coefficient generator.\n",
        "        \"\"\"\n",
        "        self.mixup_alpha = mixup_alpha\n",
        "        self.random_state = np.random.RandomState(random_seed)\n",
        "\n",
        "    def get_lambda(self, batch_size):\n",
        "        \"\"\"Get mixup random coefficients.\n",
        "        Args:\n",
        "          batch_size: int\n",
        "        Returns:\n",
        "          mixup_lambdas: (batch_size,)\n",
        "        \"\"\"\n",
        "        mixup_lambdas = []\n",
        "        for n in range(0, batch_size, 2):\n",
        "            lam = self.random_state.beta(\n",
        "                self.mixup_alpha, self.mixup_alpha, 1)[0]\n",
        "            mixup_lambdas.append(lam)\n",
        "            mixup_lambdas.append(1. - lam)\n",
        "\n",
        "        return torch.from_numpy(np.array(mixup_lambdas, dtype=np.float32))\n",
        "\n",
        "\n",
        "def interpolate(x: torch.Tensor, ratio: int):\n",
        "    \"\"\"Interpolate data in time domain. This is used to compensate the\n",
        "    resolution reduction in downsampling of a CNN.\n",
        "    Args:\n",
        "      x: (batch_size, time_steps, classes_num)\n",
        "      ratio: int, ratio to interpolate\n",
        "    Returns:\n",
        "      upsampled: (batch_size, time_steps * ratio, classes_num)\n",
        "    \"\"\"\n",
        "    (batch_size, time_steps, classes_num) = x.shape\n",
        "    upsampled = x[:, :, None, :].repeat(1, 1, ratio, 1)\n",
        "    upsampled = upsampled.reshape(batch_size, time_steps * ratio, classes_num)\n",
        "    return upsampled\n",
        "\n",
        "\n",
        "def pad_framewise_output(framewise_output: torch.Tensor, frames_num: int):\n",
        "    \"\"\"Pad framewise_output to the same length as input frames. The pad value\n",
        "    is the same as the value of the last frame.\n",
        "    Args:\n",
        "      framewise_output: (batch_size, frames_num, classes_num)\n",
        "      frames_num: int, number of frames to pad\n",
        "    Outputs:\n",
        "      output: (batch_size, frames_num, classes_num)\n",
        "    \"\"\"\n",
        "    output = F.interpolate(\n",
        "        framewise_output.unsqueeze(1),\n",
        "        size=(frames_num, framewise_output.size(2)),\n",
        "        align_corners=True,\n",
        "        mode=\"bilinear\").squeeze(1)\n",
        "\n",
        "    return output\n",
        "\n",
        "\n",
        "def gem(x: torch.Tensor, p=3, eps=1e-6):\n",
        "    return F.avg_pool2d(x.clamp(min=eps).pow(p), (x.size(-2), x.size(-1))).pow(1. / p)\n",
        "\n",
        "\n",
        "class GeM(nn.Module):\n",
        "    def __init__(self, p=3, eps=1e-6):\n",
        "        super().__init__()\n",
        "        self.p = nn.Parameter(torch.ones(1) * p)\n",
        "        self.eps = eps\n",
        "\n",
        "    def forward(self, x):\n",
        "        return gem(x, p=self.p, eps=self.eps)\n",
        "\n",
        "    def __repr__(self):\n",
        "        return self.__class__.__name__ + f\"(p={self.p.data.tolist()[0]:.4f}, eps={self.eps})\"\n",
        "\n",
        "\n",
        "class AttBlockV2(nn.Module):\n",
        "    def __init__(self,\n",
        "                 in_features: int,\n",
        "                 out_features: int,\n",
        "                 activation=\"linear\"):\n",
        "        super().__init__()\n",
        "\n",
        "        self.activation = activation\n",
        "        self.att = nn.Conv1d(\n",
        "            in_channels=in_features,\n",
        "            out_channels=out_features,\n",
        "            kernel_size=1,\n",
        "            stride=1,\n",
        "            padding=0,\n",
        "            bias=True)\n",
        "        self.cla = nn.Conv1d(\n",
        "            in_channels=in_features,\n",
        "            out_channels=out_features,\n",
        "            kernel_size=1,\n",
        "            stride=1,\n",
        "            padding=0,\n",
        "            bias=True)\n",
        "\n",
        "        self.init_weights()\n",
        "\n",
        "    def init_weights(self):\n",
        "        init_layer(self.att)\n",
        "        init_layer(self.cla)\n",
        "\n",
        "    def forward(self, x):\n",
        "        # x: (n_samples, n_in, n_time)\n",
        "        norm_att = torch.softmax(torch.tanh(self.att(x)), dim=-1)\n",
        "        cla = self.nonlinear_transform(self.cla(x))\n",
        "        x = torch.sum(norm_att * cla, dim=2)\n",
        "        return x, norm_att, cla\n",
        "\n",
        "    def nonlinear_transform(self, x):\n",
        "        if self.activation == 'linear':\n",
        "            return x\n",
        "        elif self.activation == 'sigmoid':\n",
        "            return torch.sigmoid(x)\n",
        "\n",
        "\n",
        "class TimmSED(nn.Module):\n",
        "    def __init__(self, base_model_name: str, pretrained=False, num_classes=24, in_channels=1):\n",
        "        super().__init__()\n",
        "        # Spectrogram extractor\n",
        "        self.spectrogram_extractor = Spectrogram(n_fft=CFG.n_fft, hop_length=CFG.hop_length,\n",
        "                                                 win_length=CFG.n_fft, window=\"hann\", center=True, pad_mode=\"reflect\",\n",
        "                                                 freeze_parameters=True)\n",
        "\n",
        "        # Logmel feature extractor\n",
        "        self.logmel_extractor = LogmelFilterBank(sr=CFG.sample_rate, n_fft=CFG.n_fft,\n",
        "                                                 n_mels=CFG.n_mels, fmin=CFG.fmin, fmax=CFG.fmax, ref=1.0, amin=1e-10, top_db=None,\n",
        "                                                 freeze_parameters=True)\n",
        "\n",
        "        # Spec augmenter\n",
        "        self.spec_augmenter = SpecAugmentation(time_drop_width=64, time_stripes_num=2,\n",
        "                                               freq_drop_width=8, freq_stripes_num=2)\n",
        "\n",
        "        self.bn0 = nn.BatchNorm2d(CFG.n_mels)\n",
        "\n",
        "        base_model = timm.create_model(\n",
        "            base_model_name, pretrained=pretrained, in_chans=in_channels)\n",
        "        layers = list(base_model.children())[:-2]\n",
        "        self.encoder = nn.Sequential(*layers)\n",
        "\n",
        "        if hasattr(base_model, \"fc\"):\n",
        "            in_features = base_model.fc.in_features\n",
        "        else:\n",
        "            in_features = base_model.classifier.in_features\n",
        "        self.fc1 = nn.Linear(in_features, in_features, bias=True)\n",
        "        self.att_block = AttBlockV2(\n",
        "            in_features, num_classes, activation=\"sigmoid\")\n",
        "\n",
        "        self.init_weight()\n",
        "\n",
        "    def init_weight(self):\n",
        "        init_layer(self.fc1)\n",
        "        init_bn(self.bn0)\n",
        "\n",
        "    def forward(self, input):\n",
        "        # (batch_size, 1, time_steps, freq_bins)\n",
        "        x = self.spectrogram_extractor(input)\n",
        "        x = self.logmel_extractor(x)    # (batch_size, 1, time_steps, mel_bins)\n",
        "\n",
        "        frames_num = x.shape[2]\n",
        "\n",
        "        x = x.transpose(1, 3)\n",
        "        x = self.bn0(x)\n",
        "        x = x.transpose(1, 3)\n",
        "\n",
        "        if self.training:\n",
        "            x = self.spec_augmenter(x)\n",
        "\n",
        "        x = x.transpose(2, 3)\n",
        "        # (batch_size, channels, freq, frames)\n",
        "        x = self.encoder(x)\n",
        "\n",
        "        # (batch_size, channels, frames)\n",
        "        x = torch.mean(x, dim=2)\n",
        "\n",
        "        # channel smoothing\n",
        "        x1 = F.max_pool1d(x, kernel_size=3, stride=1, padding=1)\n",
        "        x2 = F.avg_pool1d(x, kernel_size=3, stride=1, padding=1)\n",
        "        x = x1 + x2\n",
        "\n",
        "        x = F.dropout(x, p=0.5, training=self.training)\n",
        "        x = x.transpose(1, 2)\n",
        "        x = F.relu_(self.fc1(x))\n",
        "        x = x.transpose(1, 2)\n",
        "        x = F.dropout(x, p=0.5, training=self.training)\n",
        "        (clipwise_output, norm_att, segmentwise_output) = self.att_block(x)\n",
        "        logit = torch.sum(norm_att * self.att_block.cla(x), dim=2)\n",
        "        segmentwise_logit = self.att_block.cla(x).transpose(1, 2)\n",
        "        segmentwise_output = segmentwise_output.transpose(1, 2)\n",
        "\n",
        "        interpolate_ratio = frames_num // segmentwise_output.size(1)\n",
        "\n",
        "        # Get framewise output\n",
        "        framewise_output = interpolate(segmentwise_output,\n",
        "                                       interpolate_ratio)\n",
        "        framewise_output = pad_framewise_output(framewise_output, frames_num)\n",
        "\n",
        "        framewise_logit = interpolate(segmentwise_logit, interpolate_ratio)\n",
        "        framewise_logit = pad_framewise_output(framewise_logit, frames_num)\n",
        "\n",
        "        output_dict = {\n",
        "            \"framewise_output\": framewise_output,\n",
        "            \"segmentwise_output\": segmentwise_output,\n",
        "            \"logit\": logit,\n",
        "            \"framewise_logit\": framewise_logit,\n",
        "            \"clipwise_output\": clipwise_output\n",
        "        }\n",
        "\n",
        "        return output_dict"
      ],
      "id": "subtle-olympus",
      "execution_count": null,
      "outputs": []
    },
    {
      "cell_type": "code",
      "metadata": {
        "execution": {
          "iopub.execute_input": "2021-05-16T03:15:35.062050Z",
          "iopub.status.busy": "2021-05-16T03:15:35.061261Z",
          "iopub.status.idle": "2021-05-16T03:15:35.064102Z",
          "shell.execute_reply": "2021-05-16T03:15:35.063580Z"
        },
        "papermill": {
          "duration": 0.0571,
          "end_time": "2021-05-16T03:15:35.064218",
          "exception": false,
          "start_time": "2021-05-16T03:15:35.007118",
          "status": "completed"
        },
        "tags": [],
        "id": "after-audit"
      },
      "source": [
        "class TestDataset(torchdata.Dataset):\n",
        "    def __init__(self, df: pd.DataFrame, clip: np.ndarray,\n",
        "                 waveform_transforms=None):\n",
        "        self.df = df\n",
        "        self.clip = clip\n",
        "        self.waveform_transforms=waveform_transforms\n",
        "        \n",
        "    def __len__(self):\n",
        "        return len(self.df)\n",
        "    \n",
        "    def __getitem__(self, idx: int):\n",
        "        SR = 32000\n",
        "        sample = self.df.loc[idx, :]\n",
        "        row_id = sample.row_id\n",
        "\n",
        "        end_seconds = int(sample.seconds)\n",
        "        start_seconds = int(end_seconds - 5)\n",
        "\n",
        "        start_index = SR * start_seconds\n",
        "        end_index = SR * end_seconds\n",
        "\n",
        "        y = self.clip[start_index:end_index].astype(np.float32)\n",
        "\n",
        "        y = np.nan_to_num(y)\n",
        "\n",
        "        if self.waveform_transforms:\n",
        "            y = self.waveform_transforms(y)\n",
        "\n",
        "        y = np.nan_to_num(y)\n",
        "\n",
        "        return y, row_id"
      ],
      "id": "after-audit",
      "execution_count": null,
      "outputs": []
    },
    {
      "cell_type": "code",
      "metadata": {
        "execution": {
          "iopub.execute_input": "2021-05-16T03:15:35.202656Z",
          "iopub.status.busy": "2021-05-16T03:15:35.180997Z",
          "iopub.status.idle": "2021-05-16T03:15:35.205143Z",
          "shell.execute_reply": "2021-05-16T03:15:35.204660Z"
        },
        "papermill": {
          "duration": 0.09483,
          "end_time": "2021-05-16T03:15:35.205262",
          "exception": false,
          "start_time": "2021-05-16T03:15:35.110432",
          "status": "completed"
        },
        "tags": [],
        "id": "fresh-sleeping"
      },
      "source": [
        "def get_transforms(phase: str):\n",
        "    transforms = CFG.transforms\n",
        "    if transforms is None:\n",
        "        return None\n",
        "    else:\n",
        "        if transforms[phase] is None:\n",
        "            return None\n",
        "        trns_list = []\n",
        "        for trns_conf in transforms[phase]:\n",
        "            trns_name = trns_conf[\"name\"]\n",
        "            trns_params = {} if trns_conf.get(\"params\") is None else \\\n",
        "                trns_conf[\"params\"]\n",
        "            if globals().get(trns_name) is not None:\n",
        "                trns_cls = globals()[trns_name]\n",
        "                trns_list.append(trns_cls(**trns_params))\n",
        "\n",
        "        if len(trns_list) > 0:\n",
        "            return Compose(trns_list)\n",
        "        else:\n",
        "            return None\n",
        "\n",
        "\n",
        "def get_waveform_transforms(config: dict, phase: str):\n",
        "    return get_transforms(config, phase)\n",
        "\n",
        "\n",
        "def get_spectrogram_transforms(config: dict, phase: str):\n",
        "    transforms = config.get('spectrogram_transforms')\n",
        "    if transforms is None:\n",
        "        return None\n",
        "    else:\n",
        "        if transforms[phase] is None:\n",
        "            return None\n",
        "        trns_list = []\n",
        "        for trns_conf in transforms[phase]:\n",
        "            trns_name = trns_conf[\"name\"]\n",
        "            trns_params = {} if trns_conf.get(\"params\") is None else \\\n",
        "                trns_conf[\"params\"]\n",
        "            if hasattr(A, trns_name):\n",
        "                trns_cls = A.__getattribute__(trns_name)\n",
        "                trns_list.append(trns_cls(**trns_params))\n",
        "            else:\n",
        "                trns_cls = globals().get(trns_name)\n",
        "                if trns_cls is not None:\n",
        "                    trns_list.append(trns_cls(**trns_params))\n",
        "\n",
        "        if len(trns_list) > 0:\n",
        "            return A.Compose(trns_list, p=1.0)\n",
        "        else:\n",
        "            return None\n",
        "\n",
        "\n",
        "class Normalize:\n",
        "    def __call__(self, y: np.ndarray):\n",
        "        max_vol = np.abs(y).max()\n",
        "        y_vol = y * 1 / max_vol\n",
        "        return np.asfortranarray(y_vol)\n",
        "\n",
        "\n",
        "class NewNormalize:\n",
        "    def __call__(self, y: np.ndarray):\n",
        "        y_mm = y - y.mean()\n",
        "        return y_mm / y_mm.abs().max()\n",
        "\n",
        "\n",
        "class Compose:\n",
        "    def __init__(self, transforms: list):\n",
        "        self.transforms = transforms\n",
        "\n",
        "    def __call__(self, y: np.ndarray):\n",
        "        for trns in self.transforms:\n",
        "            y = trns(y)\n",
        "        return y\n",
        "\n",
        "\n",
        "class AudioTransform:\n",
        "    def __init__(self, always_apply=False, p=0.5):\n",
        "        self.always_apply = always_apply\n",
        "        self.p = p\n",
        "\n",
        "    def __call__(self, y: np.ndarray):\n",
        "        if self.always_apply:\n",
        "            return self.apply(y)\n",
        "        else:\n",
        "            if np.random.rand() < self.p:\n",
        "                return self.apply(y)\n",
        "            else:\n",
        "                return y\n",
        "\n",
        "    def apply(self, y: np.ndarray):\n",
        "        raise NotImplementedError\n",
        "\n",
        "\n",
        "class NoiseInjection(AudioTransform):\n",
        "    def __init__(self, always_apply=False, p=0.5, max_noise_level=0.5, sr=32000):\n",
        "        super().__init__(always_apply, p)\n",
        "\n",
        "        self.noise_level = (0.0, max_noise_level)\n",
        "        self.sr = sr\n",
        "\n",
        "    def apply(self, y: np.ndarray, **params):\n",
        "        noise_level = np.random.uniform(*self.noise_level)\n",
        "        noise = np.random.randn(len(y))\n",
        "        augmented = (y + noise * noise_level).astype(y.dtype)\n",
        "        return augmented\n",
        "\n",
        "\n",
        "class GaussianNoise(AudioTransform):\n",
        "    def __init__(self, always_apply=False, p=0.5, min_snr=5, max_snr=20, sr=32000):\n",
        "        super().__init__(always_apply, p)\n",
        "\n",
        "        self.min_snr = min_snr\n",
        "        self.max_snr = max_snr\n",
        "        self.sr = sr\n",
        "\n",
        "    def apply(self, y: np.ndarray, **params):\n",
        "        snr = np.random.uniform(self.min_snr, self.max_snr)\n",
        "        a_signal = np.sqrt(y ** 2).max()\n",
        "        a_noise = a_signal / (10 ** (snr / 20))\n",
        "\n",
        "        white_noise = np.random.randn(len(y))\n",
        "        a_white = np.sqrt(white_noise ** 2).max()\n",
        "        augmented = (y + white_noise * 1 / a_white * a_noise).astype(y.dtype)\n",
        "        return augmented\n",
        "\n",
        "\n",
        "class PinkNoise(AudioTransform):\n",
        "    def __init__(self, always_apply=False, p=0.5, min_snr=5, max_snr=20, sr=32000):\n",
        "        super().__init__(always_apply, p)\n",
        "\n",
        "        self.min_snr = min_snr\n",
        "        self.max_snr = max_snr\n",
        "        self.sr = sr\n",
        "\n",
        "    def apply(self, y: np.ndarray, **params):\n",
        "        snr = np.random.uniform(self.min_snr, self.max_snr)\n",
        "        a_signal = np.sqrt(y ** 2).max()\n",
        "        a_noise = a_signal / (10 ** (snr / 20))\n",
        "\n",
        "        pink_noise = cn.powerlaw_psd_gaussian(1, len(y))\n",
        "        a_pink = np.sqrt(pink_noise ** 2).max()\n",
        "        augmented = (y + pink_noise * 1 / a_pink * a_noise).astype(y.dtype)\n",
        "        return augmented\n",
        "\n",
        "\n",
        "class PitchShift(AudioTransform):\n",
        "    def __init__(self, always_apply=False, p=0.5, max_range=5, sr=32000):\n",
        "        super().__init__(always_apply, p)\n",
        "        self.max_range = max_range\n",
        "        self.sr = sr\n",
        "\n",
        "    def apply(self, y: np.ndarray, **params):\n",
        "        n_steps = np.random.randint(-self.max_range, self.max_range)\n",
        "        augmented = librosa.effects.pitch_shift(y, self.sr, n_steps)\n",
        "        return augmented\n",
        "\n",
        "\n",
        "class TimeStretch(AudioTransform):\n",
        "    def __init__(self, always_apply=False, p=0.5, max_rate=1, sr=32000):\n",
        "        super().__init__(always_apply, p)\n",
        "        self.max_rate = max_rate\n",
        "        self.sr = sr\n",
        "\n",
        "    def apply(self, y: np.ndarray, **params):\n",
        "        rate = np.random.uniform(0, self.max_rate)\n",
        "        augmented = librosa.effects.time_stretch(y, rate)\n",
        "        return augmented\n",
        "\n",
        "\n",
        "def _db2float(db: float, amplitude=True):\n",
        "    if amplitude:\n",
        "        return 10**(db / 20)\n",
        "    else:\n",
        "        return 10 ** (db / 10)\n",
        "\n",
        "\n",
        "def volume_down(y: np.ndarray, db: float):\n",
        "    \"\"\"\n",
        "    Low level API for decreasing the volume\n",
        "    Parameters\n",
        "    ----------\n",
        "    y: numpy.ndarray\n",
        "        stereo / monaural input audio\n",
        "    db: float\n",
        "        how much decibel to decrease\n",
        "    Returns\n",
        "    -------\n",
        "    applied: numpy.ndarray\n",
        "        audio with decreased volume\n",
        "    \"\"\"\n",
        "    applied = y * _db2float(-db)\n",
        "    return applied\n",
        "\n",
        "\n",
        "def volume_up(y: np.ndarray, db: float):\n",
        "    \"\"\"\n",
        "    Low level API for increasing the volume\n",
        "    Parameters\n",
        "    ----------\n",
        "    y: numpy.ndarray\n",
        "        stereo / monaural input audio\n",
        "    db: float\n",
        "        how much decibel to increase\n",
        "    Returns\n",
        "    -------\n",
        "    applied: numpy.ndarray\n",
        "        audio with increased volume\n",
        "    \"\"\"\n",
        "    applied = y * _db2float(db)\n",
        "    return applied\n",
        "\n",
        "\n",
        "class RandomVolume(AudioTransform):\n",
        "    def __init__(self, always_apply=False, p=0.5, limit=10):\n",
        "        super().__init__(always_apply, p)\n",
        "        self.limit = limit\n",
        "\n",
        "    def apply(self, y: np.ndarray, **params):\n",
        "        db = np.random.uniform(-self.limit, self.limit)\n",
        "        if db >= 0:\n",
        "            return volume_up(y, db)\n",
        "        else:\n",
        "            return volume_down(y, db)\n",
        "\n",
        "\n",
        "class OneOf:\n",
        "    def __init__(self, transforms: list):\n",
        "        self.transforms = transforms\n",
        "\n",
        "    def __call__(self, y: np.ndarray):\n",
        "        n_trns = len(self.transforms)\n",
        "        trns_idx = np.random.choice(n_trns)\n",
        "        trns = self.transforms[trns_idx]\n",
        "        y = trns(y)\n",
        "        return y\n",
        "\n",
        "\n",
        "class CosineVolume(AudioTransform):\n",
        "    def __init__(self, always_apply=False, p=0.5, limit=10):\n",
        "        super().__init__(always_apply, p)\n",
        "        self.limit = limit\n",
        "\n",
        "    def apply(self, y: np.ndarray, **params):\n",
        "        db = np.random.uniform(-self.limit, self.limit)\n",
        "        cosine = np.cos(np.arange(len(y)) / len(y) * np.pi * 2)\n",
        "        dbs = _db2float(cosine * db)\n",
        "        return y * dbs\n",
        "\n",
        "\n",
        "def drop_stripes(image: np.ndarray, dim: int, drop_width: int, stripes_num: int):\n",
        "    total_width = image.shape[dim]\n",
        "    lowest_value = image.min()\n",
        "    for _ in range(stripes_num):\n",
        "        distance = np.random.randint(low=0, high=drop_width, size=(1,))[0]\n",
        "        begin = np.random.randint(\n",
        "            low=0, high=total_width - distance, size=(1,))[0]\n",
        "\n",
        "        if dim == 0:\n",
        "            image[begin:begin + distance] = lowest_value\n",
        "        elif dim == 1:\n",
        "            image[:, begin + distance] = lowest_value\n",
        "        elif dim == 2:\n",
        "            image[:, :, begin + distance] = lowest_value\n",
        "    return image\n",
        "\n",
        "\n",
        "class TimeFreqMasking(ImageOnlyTransform):\n",
        "    def __init__(self,\n",
        "                 time_drop_width: int,\n",
        "                 time_stripes_num: int,\n",
        "                 freq_drop_width: int,\n",
        "                 freq_stripes_num: int,\n",
        "                 always_apply=False,\n",
        "                 p=0.5):\n",
        "        super().__init__(always_apply, p)\n",
        "        self.time_drop_width = time_drop_width\n",
        "        self.time_stripes_num = time_stripes_num\n",
        "        self.freq_drop_width = freq_drop_width\n",
        "        self.freq_stripes_num = freq_stripes_num\n",
        "\n",
        "    def apply(self, img, **params):\n",
        "        img_ = img.copy()\n",
        "        if img.ndim == 2:\n",
        "            img_ = drop_stripes(\n",
        "                img_, dim=0, drop_width=self.freq_drop_width, stripes_num=self.freq_stripes_num)\n",
        "            img_ = drop_stripes(\n",
        "                img_, dim=1, drop_width=self.time_drop_width, stripes_num=self.time_stripes_num)\n",
        "        return img_"
      ],
      "id": "fresh-sleeping",
      "execution_count": null,
      "outputs": []
    },
    {
      "cell_type": "code",
      "metadata": {
        "execution": {
          "iopub.execute_input": "2021-05-16T03:15:35.372776Z",
          "iopub.status.busy": "2021-05-16T03:15:35.371320Z",
          "iopub.status.idle": "2021-05-16T03:15:35.377724Z",
          "shell.execute_reply": "2021-05-16T03:15:35.378461Z"
        },
        "papermill": {
          "duration": 0.098901,
          "end_time": "2021-05-16T03:15:35.378693",
          "exception": false,
          "start_time": "2021-05-16T03:15:35.279792",
          "status": "completed"
        },
        "tags": [],
        "id": "qualified-seafood"
      },
      "source": [
        "def prediction_for_clip(test_df: pd.DataFrame, \n",
        "                        clip: np.ndarray, \n",
        "                        model, \n",
        "                        threshold=0.5):\n",
        "\n",
        "    dataset = TestDataset(df=test_df, \n",
        "                          clip=clip,\n",
        "                          waveform_transforms=get_transforms(phase=\"test\"))\n",
        "    loader = torchdata.DataLoader(dataset, batch_size=1, shuffle=False)\n",
        "    device = torch.device(\"cuda\" if torch.cuda.is_available() else \"cpu\")\n",
        "    \n",
        "    model.eval()\n",
        "    prediction_dict = {}\n",
        "    for image, row_id in tqdm(loader):\n",
        "        row_id = row_id[0]\n",
        "        image = image.to(device)\n",
        "\n",
        "        with torch.no_grad():\n",
        "            prediction = model(image)\n",
        "            proba = prediction[\"clipwise_output\"].detach().cpu().numpy().reshape(-1)\n",
        "\n",
        "        events = proba >= threshold\n",
        "        labels = np.argwhere(events).reshape(-1).tolist()\n",
        "\n",
        "        if len(labels) == 0:\n",
        "            prediction_dict[row_id] = \"nocall\"\n",
        "        else:\n",
        "            labels_str_list = list(map(lambda x: CFG.target_columns[x], labels))\n",
        "            label_string = \" \".join(labels_str_list)\n",
        "            prediction_dict[row_id] = label_string\n",
        "    return prediction_dict"
      ],
      "id": "qualified-seafood",
      "execution_count": null,
      "outputs": []
    },
    {
      "cell_type": "code",
      "metadata": {
        "execution": {
          "iopub.execute_input": "2021-05-16T03:15:35.558736Z",
          "iopub.status.busy": "2021-05-16T03:15:35.557847Z",
          "iopub.status.idle": "2021-05-16T03:15:35.566047Z",
          "shell.execute_reply": "2021-05-16T03:15:35.566787Z"
        },
        "papermill": {
          "duration": 0.098827,
          "end_time": "2021-05-16T03:15:35.566939",
          "exception": false,
          "start_time": "2021-05-16T03:15:35.468112",
          "status": "completed"
        },
        "tags": [],
        "id": "supposed-fifth"
      },
      "source": [
        "def prediction(test_audios,\n",
        "               weights_path: Path,\n",
        "               threshold=0.5):\n",
        "    device = torch.device(\"cuda\" if torch.cuda.is_available() else \"cpu\")\n",
        "    model = TimmSED(base_model_name=CFG.base_model_name,\n",
        "                    pretrained=False,\n",
        "                    num_classes=CFG.num_classes,\n",
        "                    in_channels=CFG.in_channels)\n",
        "    model = prepare_model_for_inference(model, weights_path).to(device)\n",
        "\n",
        "    warnings.filterwarnings(\"ignore\")\n",
        "    prediction_dfs = []\n",
        "    for audio_path in test_audios:\n",
        "        with timer(f\"Loading {str(audio_path)}\", logger):\n",
        "            clip, _ = sf.read(audio_path)\n",
        "\n",
        "        seconds = []\n",
        "        row_ids = []\n",
        "        for second in range(5, 605, 5):\n",
        "            row_id = \"_\".join(audio_path.name.split(\"_\")[:2]) + f\"_{second}\"\n",
        "            seconds.append(second)\n",
        "            row_ids.append(row_id)\n",
        "            \n",
        "        test_df = pd.DataFrame({\n",
        "            \"row_id\": row_ids,\n",
        "            \"seconds\": seconds\n",
        "        })\n",
        "        with timer(f\"Prediction on {audio_path}\", logger):\n",
        "            prediction_dict = prediction_for_clip(test_df,\n",
        "                                                  clip=clip,\n",
        "                                                  model=model,\n",
        "                                                  threshold=threshold)\n",
        "        row_id = list(prediction_dict.keys())\n",
        "        birds = list(prediction_dict.values())\n",
        "        prediction_df = pd.DataFrame({\n",
        "            \"row_id\": row_id,\n",
        "            \"birds\": birds\n",
        "        })\n",
        "        prediction_dfs.append(prediction_df)\n",
        "    \n",
        "    prediction_df = pd.concat(prediction_dfs, axis=0, sort=False).reset_index(drop=True)\n",
        "    return prediction_df"
      ],
      "id": "supposed-fifth",
      "execution_count": null,
      "outputs": []
    },
    {
      "cell_type": "code",
      "metadata": {
        "execution": {
          "iopub.execute_input": "2021-05-16T03:15:35.730059Z",
          "iopub.status.busy": "2021-05-16T03:15:35.729234Z",
          "iopub.status.idle": "2021-05-16T03:15:35.734606Z",
          "shell.execute_reply": "2021-05-16T03:15:35.733378Z"
        },
        "papermill": {
          "duration": 0.090106,
          "end_time": "2021-05-16T03:15:35.734771",
          "exception": false,
          "start_time": "2021-05-16T03:15:35.644665",
          "status": "completed"
        },
        "tags": [],
        "id": "intermediate-reference"
      },
      "source": [
        "def prepare_model_for_inference(model, path: Path):\n",
        "    if not torch.cuda.is_available():\n",
        "        ckpt = torch.load(path, map_location=\"cpu\")\n",
        "    else:\n",
        "        ckpt = torch.load(path)\n",
        "    model.load_state_dict(ckpt[\"model_state_dict\"])\n",
        "    model.eval()\n",
        "    return model"
      ],
      "id": "intermediate-reference",
      "execution_count": null,
      "outputs": []
    },
    {
      "cell_type": "markdown",
      "metadata": {
        "id": "HP_dCIlX7RK5"
      },
      "source": [
        "## 推論"
      ],
      "id": "HP_dCIlX7RK5"
    },
    {
      "cell_type": "code",
      "metadata": {
        "id": "_HZO4va6CnHH"
      },
      "source": [
        ""
      ],
      "id": "_HZO4va6CnHH",
      "execution_count": null,
      "outputs": []
    },
    {
      "cell_type": "code",
      "metadata": {
        "execution": {
          "iopub.execute_input": "2021-05-16T03:15:35.873442Z",
          "iopub.status.busy": "2021-05-16T03:15:35.872266Z",
          "iopub.status.idle": "2021-05-16T03:16:29.202149Z",
          "shell.execute_reply": "2021-05-16T03:16:29.201619Z"
        },
        "papermill": {
          "duration": 53.388123,
          "end_time": "2021-05-16T03:16:29.202279",
          "exception": false,
          "start_time": "2021-05-16T03:15:35.814156",
          "status": "completed"
        },
        "tags": [],
        "id": "dominican-reproduction"
      },
      "source": [
        "weights_path = Path('/content/input/birdcief_datas/best.pth')\n",
        "#weights_path = Path(\"../input/birdclef2021-effnetb0-starter-weight/best.pth\")\n",
        "submission = prediction(test_audios=all_audios,\n",
        "                        weights_path=weights_path,\n",
        "                        threshold=STEP2_TH)\n",
        "submission.to_csv(\"submission0.csv\", index=False)"
      ],
      "id": "dominican-reproduction",
      "execution_count": null,
      "outputs": []
    },
    {
      "cell_type": "code",
      "metadata": {
        "execution": {
          "iopub.execute_input": "2021-05-16T03:16:29.542454Z",
          "iopub.status.busy": "2021-05-16T03:16:29.541635Z",
          "iopub.status.idle": "2021-05-16T03:16:29.544716Z",
          "shell.execute_reply": "2021-05-16T03:16:29.544272Z"
        },
        "papermill": {
          "duration": 0.176115,
          "end_time": "2021-05-16T03:16:29.544836",
          "exception": false,
          "start_time": "2021-05-16T03:16:29.368721",
          "status": "completed"
        },
        "tags": [],
        "id": "three-darkness"
      },
      "source": [
        "submission0 = submission"
      ],
      "id": "three-darkness",
      "execution_count": null,
      "outputs": []
    },
    {
      "cell_type": "markdown",
      "metadata": {
        "papermill": {
          "duration": 0.1668,
          "end_time": "2021-05-16T03:16:29.876311",
          "exception": false,
          "start_time": "2021-05-16T03:16:29.709511",
          "status": "completed"
        },
        "tags": [],
        "id": "generous-ticket"
      },
      "source": [
        "# マージ"
      ],
      "id": "generous-ticket"
    },
    {
      "cell_type": "markdown",
      "metadata": {
        "id": "PcwR32Td7wiX"
      },
      "source": [
        "## STEP1をサブミッションの形式に変換"
      ],
      "id": "PcwR32Td7wiX"
    },
    {
      "cell_type": "code",
      "metadata": {
        "execution": {
          "iopub.execute_input": "2021-05-16T03:16:30.225707Z",
          "iopub.status.busy": "2021-05-16T03:16:30.224706Z",
          "iopub.status.idle": "2021-05-16T03:16:30.235571Z",
          "shell.execute_reply": "2021-05-16T03:16:30.236248Z"
        },
        "papermill": {
          "duration": 0.194395,
          "end_time": "2021-05-16T03:16:30.236473",
          "exception": false,
          "start_time": "2021-05-16T03:16:30.042078",
          "status": "completed"
        },
        "tags": [],
        "id": "plain-union"
      },
      "source": [
        "def preds_as_df(data, preds):\n",
        "    sub = {\n",
        "        \"row_id\": [],\n",
        "        \"birds\": [],\n",
        "    }\n",
        "    \n",
        "    for row, pred in zip(data.itertuples(False), preds):\n",
        "        row_id = [f\"{row.id}_{row.site}_{5*i}\" for i in range(1, len(pred)+1)]\n",
        "        sub[\"birds\"] += pred\n",
        "        sub[\"row_id\"] += row_id\n",
        "        \n",
        "    sub = pd.DataFrame(sub)\n",
        "    \n",
        "    if SAMPLE_SUB_PATH:\n",
        "        sample_sub = pd.read_csv(SAMPLE_SUB_PATH, usecols=[\"row_id\"])\n",
        "        sub = sample_sub.merge(sub, on=\"row_id\", how=\"left\")\n",
        "        sub[\"birds\"] = sub[\"birds\"].fillna(\"nocall\")\n",
        "    return sub"
      ],
      "id": "plain-union",
      "execution_count": null,
      "outputs": []
    },
    {
      "cell_type": "code",
      "metadata": {
        "execution": {
          "iopub.execute_input": "2021-05-16T03:16:30.830185Z",
          "iopub.status.busy": "2021-05-16T03:16:30.829394Z",
          "iopub.status.idle": "2021-05-16T03:16:30.836221Z",
          "shell.execute_reply": "2021-05-16T03:16:30.835670Z"
        },
        "papermill": {
          "duration": 0.290298,
          "end_time": "2021-05-16T03:16:30.836338",
          "exception": false,
          "start_time": "2021-05-16T03:16:30.546040",
          "status": "completed"
        },
        "tags": [],
        "id": "charming-institute"
      },
      "source": [
        "sub = preds_as_df(data, preds)\n",
        "sub.to_csv(\"submission1.csv\", index=False)\n",
        "print(sub.shape)"
      ],
      "id": "charming-institute",
      "execution_count": null,
      "outputs": []
    },
    {
      "cell_type": "markdown",
      "metadata": {
        "id": "gSxHANpL79Vs"
      },
      "source": [
        "## ２つの結果をマージ"
      ],
      "id": "gSxHANpL79Vs"
    },
    {
      "cell_type": "code",
      "metadata": {
        "execution": {
          "iopub.execute_input": "2021-05-16T03:16:31.180491Z",
          "iopub.status.busy": "2021-05-16T03:16:31.179795Z",
          "iopub.status.idle": "2021-05-16T03:16:31.236329Z",
          "shell.execute_reply": "2021-05-16T03:16:31.235787Z"
        },
        "papermill": {
          "duration": 0.235023,
          "end_time": "2021-05-16T03:16:31.236468",
          "exception": false,
          "start_time": "2021-05-16T03:16:31.001445",
          "status": "completed"
        },
        "tags": [],
        "id": "american-terrorism"
      },
      "source": [
        "submission = sub.merge(submission0, how=\"left\",  on=\"row_id\")\n",
        "birds = []\n",
        "for i in range(len(submission)) :\n",
        "    x_birds, y_birds = submission['birds_x'][i], submission['birds_y'][i]\n",
        "    if x_birds == 'nocall' and y_birds != 'nocall' :\n",
        "        b = y_birds.split()\n",
        "    elif x_birds != 'nocall' and y_birds == 'nocall' :\n",
        "        b = x_birds.split()\n",
        "    else:\n",
        "        b = x_birds.split() + y_birds.split()\n",
        "    birds.append(\" \".join(list(set(b))))\n",
        "submission['birds']=birds\n",
        "submission[['row_id','birds']].to_csv(\"submission.csv\", index=False)"
      ],
      "id": "american-terrorism",
      "execution_count": null,
      "outputs": []
    },
    {
      "cell_type": "code",
      "metadata": {
        "execution": {
          "iopub.execute_input": "2021-05-16T03:16:31.577136Z",
          "iopub.status.busy": "2021-05-16T03:16:31.576259Z",
          "iopub.status.idle": "2021-05-16T03:16:31.579060Z",
          "shell.execute_reply": "2021-05-16T03:16:31.578588Z"
        },
        "papermill": {
          "duration": 0.177903,
          "end_time": "2021-05-16T03:16:31.579187",
          "exception": false,
          "start_time": "2021-05-16T03:16:31.401284",
          "status": "completed"
        },
        "tags": [],
        "id": "incorporate-village"
      },
      "source": [
        "if 0 :\n",
        "    birds = []\n",
        "    for i in range(len(submission0)) :\n",
        "        x_birds, y_birds = submission['birds'][i], sub['birds'][i]\n",
        "        if x_birds == 'nocall' and y_birds != 'nocall' :\n",
        "            b = y_birds.split()\n",
        "        elif x_birds != 'nocall' and y_birds == 'nocall' :\n",
        "            b = x_birds.split()\n",
        "        else:\n",
        "            b = x_birds.split() + y_birds.split()\n",
        "        birds.append(\" \".join(list(set(b))))"
      ],
      "id": "incorporate-village",
      "execution_count": null,
      "outputs": []
    },
    {
      "cell_type": "code",
      "metadata": {
        "execution": {
          "iopub.execute_input": "2021-05-16T03:16:31.912731Z",
          "iopub.status.busy": "2021-05-16T03:16:31.911862Z",
          "iopub.status.idle": "2021-05-16T03:16:31.914792Z",
          "shell.execute_reply": "2021-05-16T03:16:31.914365Z"
        },
        "papermill": {
          "duration": 0.1707,
          "end_time": "2021-05-16T03:16:31.914910",
          "exception": false,
          "start_time": "2021-05-16T03:16:31.744210",
          "status": "completed"
        },
        "tags": [],
        "id": "hindu-channels"
      },
      "source": [
        "#sub['birds'] = birds\n",
        "#sub = submission0"
      ],
      "id": "hindu-channels",
      "execution_count": null,
      "outputs": []
    },
    {
      "cell_type": "code",
      "metadata": {
        "execution": {
          "iopub.execute_input": "2021-05-16T03:16:32.261361Z",
          "iopub.status.busy": "2021-05-16T03:16:32.260395Z",
          "iopub.status.idle": "2021-05-16T03:16:32.264463Z",
          "shell.execute_reply": "2021-05-16T03:16:32.263995Z"
        },
        "papermill": {
          "duration": 0.183526,
          "end_time": "2021-05-16T03:16:32.264661",
          "exception": false,
          "start_time": "2021-05-16T03:16:32.081135",
          "status": "completed"
        },
        "tags": [],
        "id": "willing-leeds"
      },
      "source": [
        "submission[submission.birds != 'nocall']"
      ],
      "id": "willing-leeds",
      "execution_count": null,
      "outputs": []
    },
    {
      "cell_type": "markdown",
      "metadata": {
        "id": "WCJ9QwDkD1rR"
      },
      "source": [
        "# ファイル毎の場所と日付取り出し"
      ],
      "id": "WCJ9QwDkD1rR"
    },
    {
      "cell_type": "code",
      "metadata": {
        "id": "dxER8VL3MeXD"
      },
      "source": [
        "def cal_rho(lon_a,lat_a,lon_b,lat_b):\n",
        "    ra=6378.140  # equatorial radius (km)\n",
        "    rb=6356.755  # polar radius (km)\n",
        "    F=(ra-rb)/ra # flattening of the earth\n",
        "    rad_lat_a=np.radians(lat_a)\n",
        "    rad_lon_a=np.radians(lon_a)\n",
        "    rad_lat_b=np.radians(lat_b)\n",
        "    rad_lon_b=np.radians(lon_b)\n",
        "    pa=np.arctan(rb/ra*np.tan(rad_lat_a))\n",
        "    pb=np.arctan(rb/ra*np.tan(rad_lat_b))\n",
        "    xx=np.arccos(np.sin(pa)*np.sin(pb)+np.cos(pa)*np.cos(pb)*np.cos(rad_lon_a-rad_lon_b))\n",
        "    c1=(np.sin(xx)-xx)*(np.sin(pa)+np.sin(pb))**2/np.cos(xx/2)**2\n",
        "    c2=(np.sin(xx)+xx)*(np.sin(pa)-np.sin(pb))**2/np.sin(xx/2)**2\n",
        "    dr=F/8*(c1-c2)\n",
        "    rho=ra*(xx+dr)\n",
        "    return rho"
      ],
      "id": "dxER8VL3MeXD",
      "execution_count": null,
      "outputs": []
    },
    {
      "cell_type": "code",
      "metadata": {
        "id": "HG7crJJYG_9N"
      },
      "source": [
        "import glob\n",
        "f = glob.glob('../input/birdclef-2021/test_soundscapes/*.txt')\n",
        "\n",
        "df_sites = pd.DataFrame()\n",
        "\n",
        "for file in f:\n",
        "    with open(file, 'r') as f:\n",
        "        lines=f.readlines()\n",
        "        df_sites = df_sites.append({\"name\" : lines[0].strip(), \n",
        "                                    \"latitude\" : float(lines[-2].split()[-1]), \n",
        "                                    \"longitude\" : float(lines[-1].split()[-1]),\n",
        "                                    \"alias\" : file.split(\"/\")[-1].split(\"_\")[0]}, ignore_index=True)\n",
        "\n",
        "\n",
        "\n",
        "df_sites"
      ],
      "id": "HG7crJJYG_9N",
      "execution_count": null,
      "outputs": []
    },
    {
      "cell_type": "code",
      "metadata": {
        "id": "xFZ3MgdVFlY2"
      },
      "source": [
        "meta = pd.read_csv('../input/birdclef-2021/train_metadata.csv')\n",
        "meta.head()"
      ],
      "id": "xFZ3MgdVFlY2",
      "execution_count": null,
      "outputs": []
    },
    {
      "cell_type": "code",
      "metadata": {
        "id": "0YYChG1CMXm-"
      },
      "source": [
        "\n",
        "sites = dict()\n",
        "for e in df_sites['alias']:\n",
        "  for i in range(1, 13):\n",
        "    sites[e,i] = set()\n",
        "\n",
        "for idx in tqdm(range(len(meta))):\n",
        "  bird, lat, lon, date = meta.primary_label[idx], meta.latitude[idx], meta.longitude[idx], meta.date[idx]\n",
        "  month = int(date.split(\"-\")[1])\n",
        "  if month == 0:\n",
        "    continue\n",
        "  for i in range(4) :\n",
        "    loc, lat1, lon1 = df_sites.alias[i], df_sites.latitude[i], df_sites.longitude[i]\n",
        "    dist = cal_rho(lon, lat, lon1, lat1)\n",
        "    if dist <= DIST_TH:\n",
        "      sites[loc, month].add(bird)\n",
        "#      print(bird, loc, dist)\n"
      ],
      "id": "0YYChG1CMXm-",
      "execution_count": null,
      "outputs": []
    },
    {
      "cell_type": "code",
      "metadata": {
        "id": "cmFx-DPFEBvy"
      },
      "source": [
        "place_dict = dict()\n",
        "for e in all_audios :\n",
        "    p = str(e).split('/')[-1].replace(\".ogg\",\"\").split(\"_\")\n",
        "    place_dict[p[0]] = (p[1], p[2])\n",
        "\n",
        "place_dict"
      ],
      "id": "cmFx-DPFEBvy",
      "execution_count": null,
      "outputs": []
    },
    {
      "cell_type": "code",
      "metadata": {
        "id": "TuEHyOLVQ0ia"
      },
      "source": [
        "count = 0\n",
        "for idx in tqdm(range(len(submission))):\n",
        "  s = str(submission.row_id[idx]).split('_')\n",
        "  id, loc, n = s[0], s[1], s[2]\n",
        "  loc, date = place_dict[id]\n",
        "  month = int(date[4:6])\n",
        "\n",
        "  birds = submission.birds[idx]\n",
        "  if birds == 'nocall' :\n",
        "    continue\n",
        "  bird = birds.split()\n",
        "  new_bird = []\n",
        "  for e in bird :\n",
        "    if e in sites[loc, month] :\n",
        "      new_bird.append(e)\n",
        "    else:\n",
        "      count+=1\n",
        "\n",
        "  if len(new_bird) == 0 :\n",
        "    new_bird.append('nocall')\n",
        "  submission.birds[idx] = \" \".join(new_bird)\n",
        "\n",
        "print(\"----\")\n",
        "print(\"{} is removed\".format(count))\n",
        "submission[submission.birds != 'nocall']"
      ],
      "id": "TuEHyOLVQ0ia",
      "execution_count": null,
      "outputs": []
    },
    {
      "cell_type": "markdown",
      "metadata": {
        "papermill": {
          "duration": 0.169386,
          "end_time": "2021-05-16T03:16:32.603549",
          "exception": false,
          "start_time": "2021-05-16T03:16:32.434163",
          "status": "completed"
        },
        "tags": [],
        "id": "cordless-provincial"
      },
      "source": [
        "# 簡易チェック"
      ],
      "id": "cordless-provincial"
    },
    {
      "cell_type": "code",
      "metadata": {
        "execution": {
          "iopub.execute_input": "2021-05-16T03:16:32.937383Z",
          "iopub.status.busy": "2021-05-16T03:16:32.936609Z",
          "iopub.status.idle": "2021-05-16T03:16:32.939765Z",
          "shell.execute_reply": "2021-05-16T03:16:32.939289Z"
        },
        "papermill": {
          "duration": 0.170682,
          "end_time": "2021-05-16T03:16:32.939902",
          "exception": false,
          "start_time": "2021-05-16T03:16:32.769220",
          "status": "completed"
        },
        "tags": [],
        "id": "surrounded-peninsula"
      },
      "source": [
        "sub2 = submission[['row_id','birds']]\n",
        "#sub2 = sub\n",
        "#sub2 = submission0"
      ],
      "id": "surrounded-peninsula",
      "execution_count": null,
      "outputs": []
    },
    {
      "cell_type": "code",
      "metadata": {
        "execution": {
          "iopub.execute_input": "2021-05-16T03:16:33.284118Z",
          "iopub.status.busy": "2021-05-16T03:16:33.283347Z",
          "iopub.status.idle": "2021-05-16T03:16:33.286274Z",
          "shell.execute_reply": "2021-05-16T03:16:33.285812Z"
        },
        "papermill": {
          "duration": 0.17411,
          "end_time": "2021-05-16T03:16:33.286399",
          "exception": false,
          "start_time": "2021-05-16T03:16:33.112289",
          "status": "completed"
        },
        "tags": [],
        "id": "decimal-cambridge"
      },
      "source": [
        "def get_metrics(s_true, s_pred):\n",
        "    s_true = set(s_true.split())\n",
        "    s_pred = set(s_pred.split())\n",
        "    n, n_true, n_pred = len(s_true.intersection(s_pred)), len(s_true), len(s_pred)\n",
        "    \n",
        "    prec = n/n_pred\n",
        "    rec = n/n_true\n",
        "    f1 = 2*prec*rec/(prec + rec) if prec + rec else 0\n",
        "    \n",
        "    return {\"f1\": f1, \"prec\": prec, \"rec\": rec, \"n_true\": n_true, \"n_pred\": n_pred, \"n\": n}"
      ],
      "id": "decimal-cambridge",
      "execution_count": null,
      "outputs": []
    },
    {
      "cell_type": "code",
      "metadata": {
        "execution": {
          "iopub.execute_input": "2021-05-16T03:16:33.623007Z",
          "iopub.status.busy": "2021-05-16T03:16:33.622118Z",
          "iopub.status.idle": "2021-05-16T03:16:33.664983Z",
          "shell.execute_reply": "2021-05-16T03:16:33.664469Z"
        },
        "papermill": {
          "duration": 0.212604,
          "end_time": "2021-05-16T03:16:33.665116",
          "exception": false,
          "start_time": "2021-05-16T03:16:33.452512",
          "status": "completed"
        },
        "tags": [],
        "id": "conscious-building"
      },
      "source": [
        "if TARGET_PATH:\n",
        "    sub_target = pd.read_csv(TARGET_PATH)\n",
        "    sub_target = sub_target.merge(sub2, how=\"left\", on=\"row_id\")\n",
        "    \n",
        "    print(sub_target[\"birds_x\"].notnull().sum(), sub_target[\"birds_x\"].notnull().sum())\n",
        "    assert sub_target[\"birds_x\"].notnull().all()\n",
        "    assert sub_target[\"birds_y\"].notnull().all()\n",
        "    \n",
        "    df_metrics = pd.DataFrame([get_metrics(s_true, s_pred) for s_true, s_pred in zip(sub_target.birds_x, sub_target.birds_y)])\n",
        "    \n",
        "    print(\"==\", STEP1_TH, STEP2_TH)\n",
        "    print(df_metrics.mean())"
      ],
      "id": "conscious-building",
      "execution_count": null,
      "outputs": []
    },
    {
      "cell_type": "code",
      "metadata": {
        "execution": {
          "iopub.execute_input": "2021-05-16T03:16:34.025103Z",
          "iopub.status.busy": "2021-05-16T03:16:34.024272Z",
          "iopub.status.idle": "2021-05-16T03:16:34.033248Z",
          "shell.execute_reply": "2021-05-16T03:16:34.032709Z"
        },
        "papermill": {
          "duration": 0.192008,
          "end_time": "2021-05-16T03:16:34.033364",
          "exception": false,
          "start_time": "2021-05-16T03:16:33.841356",
          "status": "completed"
        },
        "tags": [],
        "id": "norman-school"
      },
      "source": [
        "# オリジナル指標（nocallの割合を0.54(テスト)に合わせた場合の正解率（完全一致のみ）\n",
        "nocall = len(sub_target[sub_target.birds_x == \"nocall\"])/len(sub_target)\n",
        "same = len(sub_target[(sub_target.birds_x == sub_target.birds_y) &(sub_target.birds_x != \"nocall\")])/len(sub_target)\n",
        "print(same/(1-nocall))\n",
        "\n",
        "tot = 0.9 #  0.54 + 0.36 - 0.64 + 0.64\n",
        "correct = nocall * 0.54/0.64 + same\n",
        "\n",
        "correct/tot"
      ],
      "id": "norman-school",
      "execution_count": null,
      "outputs": []
    },
    {
      "cell_type": "code",
      "metadata": {
        "id": "ccLvHNk8lie9"
      },
      "source": [
        "sub_target.to_csv(\"target.csv\")"
      ],
      "id": "ccLvHNk8lie9",
      "execution_count": null,
      "outputs": []
    },
    {
      "cell_type": "code",
      "metadata": {
        "execution": {
          "iopub.execute_input": "2021-05-16T03:16:34.524451Z",
          "iopub.status.busy": "2021-05-16T03:16:34.523716Z",
          "iopub.status.idle": "2021-05-16T03:16:34.541222Z",
          "shell.execute_reply": "2021-05-16T03:16:34.542194Z"
        },
        "papermill": {
          "duration": 0.298931,
          "end_time": "2021-05-16T03:16:34.542399",
          "exception": false,
          "start_time": "2021-05-16T03:16:34.243468",
          "status": "completed"
        },
        "tags": [],
        "id": "hollow-domain"
      },
      "source": [
        "sub_target[sub_target.birds_y != \"nocall\"]"
      ],
      "id": "hollow-domain",
      "execution_count": null,
      "outputs": []
    },
    {
      "cell_type": "code",
      "metadata": {
        "execution": {
          "iopub.execute_input": "2021-05-16T03:16:35.098367Z",
          "iopub.status.busy": "2021-05-16T03:16:35.097502Z",
          "iopub.status.idle": "2021-05-16T03:16:35.114163Z",
          "shell.execute_reply": "2021-05-16T03:16:35.114792Z"
        },
        "papermill": {
          "duration": 0.300583,
          "end_time": "2021-05-16T03:16:35.115012",
          "exception": false,
          "start_time": "2021-05-16T03:16:34.814429",
          "status": "completed"
        },
        "tags": [],
        "id": "several-desktop"
      },
      "source": [
        "sub_target[sub_target.birds_x != \"nocall\"]"
      ],
      "id": "several-desktop",
      "execution_count": null,
      "outputs": []
    },
    {
      "cell_type": "code",
      "metadata": {
        "execution": {
          "iopub.execute_input": "2021-05-16T03:16:35.566093Z",
          "iopub.status.busy": "2021-05-16T03:16:35.565141Z",
          "iopub.status.idle": "2021-05-16T03:16:35.568955Z",
          "shell.execute_reply": "2021-05-16T03:16:35.569401Z"
        },
        "papermill": {
          "duration": 0.19366,
          "end_time": "2021-05-16T03:16:35.569568",
          "exception": false,
          "start_time": "2021-05-16T03:16:35.375908",
          "status": "completed"
        },
        "tags": [],
        "id": "composed-jesus"
      },
      "source": [
        "sub_target[(sub_target.birds_x == sub_target.birds_y) &(sub_target.birds_x != \"nocall\")]"
      ],
      "id": "composed-jesus",
      "execution_count": null,
      "outputs": []
    },
    {
      "cell_type": "code",
      "metadata": {
        "execution": {
          "iopub.execute_input": "2021-05-16T03:16:35.935071Z",
          "iopub.status.busy": "2021-05-16T03:16:35.934148Z",
          "iopub.status.idle": "2021-05-16T03:16:35.938338Z",
          "shell.execute_reply": "2021-05-16T03:16:35.937836Z"
        },
        "papermill": {
          "duration": 0.195583,
          "end_time": "2021-05-16T03:16:35.938469",
          "exception": false,
          "start_time": "2021-05-16T03:16:35.742886",
          "status": "completed"
        },
        "tags": [],
        "id": "blind-closer"
      },
      "source": [
        "sub_target[(sub_target.birds_x == sub_target.birds_y) &(sub_target.birds_x == \"nocall\")]"
      ],
      "id": "blind-closer",
      "execution_count": null,
      "outputs": []
    },
    {
      "cell_type": "code",
      "metadata": {
        "execution": {
          "iopub.execute_input": "2021-05-16T03:16:36.295404Z",
          "iopub.status.busy": "2021-05-16T03:16:36.294585Z",
          "iopub.status.idle": "2021-05-16T03:16:36.309381Z",
          "shell.execute_reply": "2021-05-16T03:16:36.308949Z"
        },
        "papermill": {
          "duration": 0.199336,
          "end_time": "2021-05-16T03:16:36.309506",
          "exception": false,
          "start_time": "2021-05-16T03:16:36.110170",
          "status": "completed"
        },
        "tags": [],
        "id": "intimate-software"
      },
      "source": [
        "sub_target[(sub_target.birds_x != sub_target.birds_y) &(sub_target.birds_y == \"nocall\")]"
      ],
      "id": "intimate-software",
      "execution_count": null,
      "outputs": []
    },
    {
      "cell_type": "code",
      "metadata": {
        "execution": {
          "iopub.execute_input": "2021-05-16T03:16:36.666909Z",
          "iopub.status.busy": "2021-05-16T03:16:36.666059Z",
          "iopub.status.idle": "2021-05-16T03:16:36.669974Z",
          "shell.execute_reply": "2021-05-16T03:16:36.669475Z"
        },
        "papermill": {
          "duration": 0.190079,
          "end_time": "2021-05-16T03:16:36.670095",
          "exception": false,
          "start_time": "2021-05-16T03:16:36.480016",
          "status": "completed"
        },
        "tags": [],
        "id": "convenient-distribution"
      },
      "source": [
        "sub_target[(sub_target.birds_x != sub_target.birds_y) &(sub_target.birds_y != \"nocall\")][:50]"
      ],
      "id": "convenient-distribution",
      "execution_count": null,
      "outputs": []
    },
    {
      "cell_type": "code",
      "metadata": {
        "id": "m_F5_rVER1UI"
      },
      "source": [
        "sub_target[(sub_target.birds_x != sub_target.birds_y) &(sub_target.birds_x != \"nocall\")&(sub_target.birds_y != \"nocall\")][:50]"
      ],
      "id": "m_F5_rVER1UI",
      "execution_count": null,
      "outputs": []
    },
    {
      "cell_type": "code",
      "metadata": {
        "papermill": {
          "duration": 0.172401,
          "end_time": "2021-05-16T03:16:37.013617",
          "exception": false,
          "start_time": "2021-05-16T03:16:36.841216",
          "status": "completed"
        },
        "tags": [],
        "id": "distant-grill"
      },
      "source": [
        "# ラベルが同じかチェック\n",
        "for x,y  in zip(LABEL_IDS,CFG.target_columns):\n",
        "  if x != y :\n",
        "    print(x,y)"
      ],
      "id": "distant-grill",
      "execution_count": null,
      "outputs": []
    },
    {
      "cell_type": "code",
      "metadata": {
        "id": "jow4RqoSjl46"
      },
      "source": [
        ""
      ],
      "id": "jow4RqoSjl46",
      "execution_count": null,
      "outputs": []
    }
  ]
}